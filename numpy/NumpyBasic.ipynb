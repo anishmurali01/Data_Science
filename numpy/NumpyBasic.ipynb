{
 "cells": [
  {
   "cell_type": "markdown",
   "id": "e42939c1-249a-488d-ae35-9ef10f02c911",
   "metadata": {},
   "source": [
    "# Numpy\n",
    "```\n",
    "    pip install numpy\n",
    "```\n",
    "    Used for Mathematical Calculations\n",
    "    for data maniulations numpy \n",
    "    library for array operations ka liya\n",
    "    Numpy Array Creation\n",
    "    Shape\n",
    "    indexing\n",
    "    data types: b,i,u,f,c,m,M,O,S,u,V (https://numpy.org/doc/1.25/reference/arrays.dtypes.html#arrays-dtypes)\n",
    "    more creation methods: arange, linspace, ones, zeros, eye, diag\n",
    "    random numbers: Numpy Random Module\n",
    "        rand: Random values in given shape\n",
    "        randn: Return samples from the Standard normal distribution\n",
    "        randint: Return random integer from low(inclusive) to high(exclusive)\n",
    "        random: Return random floats in [0.0,1.0)\n",
    "        choice: Generates a random sample from given 1D array\n",
    "        Shuffle: Shuffle the contents of the sequence. Discuss np.random.seed()\n",
    "        reshape: -1 for unknown\n",
    "    slicing and assignment\n",
    "    copy and view: share_memory\n",
    "    operators(Element wise operations)\n",
    "    and: &, or: |, not: ~ (Bitwise works same as logical in case of boolean Values)\n",
    "    shape mismatch\n",
    "    fancy indexing also know as filter\n",
    "    search: where uses fancy indexing\n",
    "    Basic reductions: sum, min, max, any, all,argmax, argmin\n",
    "    Some More Numpy Functions - Statistics: mean, median, average, variance, standard deviation\n",
    "    iteration: nditer, ndenumerate\n",
    "    Join: concatenate, stack, hstack, vstack. Note: make a tuple of arays you want to join\n",
    "    split: array_split, hsplit\n",
    "    sort: np.sort\n",
    "    Broadcasting\n",
    "    Input from Text File\n",
    "    Questions"
   ]
  },
  {
   "cell_type": "code",
   "execution_count": 1,
   "id": "0dd2912e-2287-4ead-bc95-b67ead42adc0",
   "metadata": {},
   "outputs": [
    {
     "name": "stdout",
     "output_type": "stream",
     "text": [
      "Requirement already satisfied: numpy in /Library/Frameworks/Python.framework/Versions/3.12/lib/python3.12/site-packages (2.1.3)\n",
      "\n",
      "\u001b[1m[\u001b[0m\u001b[34;49mnotice\u001b[0m\u001b[1;39;49m]\u001b[0m\u001b[39;49m A new release of pip is available: \u001b[0m\u001b[31;49m24.3.1\u001b[0m\u001b[39;49m -> \u001b[0m\u001b[32;49m25.0.1\u001b[0m\n",
      "\u001b[1m[\u001b[0m\u001b[34;49mnotice\u001b[0m\u001b[1;39;49m]\u001b[0m\u001b[39;49m To update, run: \u001b[0m\u001b[32;49mpip3 install --upgrade pip\u001b[0m\n"
     ]
    }
   ],
   "source": [
    "!pip3 install numpy"
   ]
  },
  {
   "cell_type": "code",
   "execution_count": 2,
   "id": "97731aa5-2af1-43d4-aaf9-77addb5e1a49",
   "metadata": {},
   "outputs": [
    {
     "name": "stdout",
     "output_type": "stream",
     "text": [
      "2.1.3\n"
     ]
    }
   ],
   "source": [
    "import numpy as np\n",
    "print(np.__version__)"
   ]
  },
  {
   "cell_type": "code",
   "execution_count": 3,
   "id": "13b75e4d-15a4-441d-9d79-935326907265",
   "metadata": {},
   "outputs": [],
   "source": [
    "l1=[1,2,3,4]\n",
    "l2=[[1,2],[3,4],[5,6]]\n",
    "l3=[[[10,20],[30,40]],[[1,2],[3,4]]]"
   ]
  },
  {
   "cell_type": "code",
   "execution_count": 4,
   "id": "cc0aa024-c7e3-43ff-b0cb-e740b51a7771",
   "metadata": {
    "jp-MarkdownHeadingCollapsed": true
   },
   "outputs": [],
   "source": [
    " n1=np.array(l1)\n",
    " n2=np.array(l2)\n",
    " n3=np.array(l3)"
   ]
  },
  {
   "cell_type": "code",
   "execution_count": 5,
   "id": "5b218c02-f0ca-4275-8546-1aff63b0e7e5",
   "metadata": {},
   "outputs": [
    {
     "data": {
      "text/plain": [
       "numpy.ndarray"
      ]
     },
     "execution_count": 5,
     "metadata": {},
     "output_type": "execute_result"
    }
   ],
   "source": [
    "type(n1)"
   ]
  },
  {
   "cell_type": "code",
   "execution_count": 6,
   "id": "59498d62-483e-44b7-af83-2edecc9930c5",
   "metadata": {},
   "outputs": [
    {
     "data": {
      "text/plain": [
       "(4,)"
      ]
     },
     "execution_count": 6,
     "metadata": {},
     "output_type": "execute_result"
    }
   ],
   "source": [
    "n1.shape"
   ]
  },
  {
   "cell_type": "code",
   "execution_count": 7,
   "id": "2d351856-d7b9-49c6-914b-19879c042502",
   "metadata": {},
   "outputs": [
    {
     "data": {
      "text/plain": [
       "(3, 2)"
      ]
     },
     "execution_count": 7,
     "metadata": {},
     "output_type": "execute_result"
    }
   ],
   "source": [
    "n2.shape"
   ]
  },
  {
   "cell_type": "code",
   "execution_count": 8,
   "id": "3bcaca63-a3ca-4c94-9ffd-0e7a4e006d7c",
   "metadata": {},
   "outputs": [
    {
     "data": {
      "text/plain": [
       "(2, 2, 2)"
      ]
     },
     "execution_count": 8,
     "metadata": {},
     "output_type": "execute_result"
    }
   ],
   "source": [
    "n3.shape"
   ]
  },
  {
   "cell_type": "code",
   "execution_count": 9,
   "id": "7e0fc1c1-beec-412b-8d20-3987b54fc51d",
   "metadata": {},
   "outputs": [
    {
     "name": "stdout",
     "output_type": "stream",
     "text": [
      "3 3\n"
     ]
    }
   ],
   "source": [
    "print(l1[2],n1[2])"
   ]
  },
  {
   "cell_type": "code",
   "execution_count": 12,
   "id": "1ddb3b79-8f4e-4bcb-8d6f-90be169c5e0f",
   "metadata": {},
   "outputs": [
    {
     "name": "stdout",
     "output_type": "stream",
     "text": [
      "4 4\n"
     ]
    }
   ],
   "source": [
    "# print(l2[1][1],n2[1][1])\n",
    "print(l2[1][1],n2[1,1])"
   ]
  },
  {
   "cell_type": "code",
   "execution_count": 13,
   "id": "2b64c9d4-ad17-4966-afad-b77ce0c600b0",
   "metadata": {},
   "outputs": [
    {
     "name": "stdout",
     "output_type": "stream",
     "text": [
      "30 30\n"
     ]
    }
   ],
   "source": [
    "print(l3[0][1][0],n3[0,1,0])"
   ]
  },
  {
   "cell_type": "code",
   "execution_count": 14,
   "id": "0d262ea0-f0f3-42aa-adf4-95ecb4489859",
   "metadata": {},
   "outputs": [
    {
     "data": {
      "text/plain": [
       "[3, 4]"
      ]
     },
     "execution_count": 14,
     "metadata": {},
     "output_type": "execute_result"
    }
   ],
   "source": [
    "l2[1]"
   ]
  },
  {
   "cell_type": "code",
   "execution_count": 15,
   "id": "aa784fda-91a2-4b6f-b00a-e8b24c1c7d0f",
   "metadata": {},
   "outputs": [
    {
     "data": {
      "text/plain": [
       "array([3, 4])"
      ]
     },
     "execution_count": 15,
     "metadata": {},
     "output_type": "execute_result"
    }
   ],
   "source": [
    "n2[1]"
   ]
  },
  {
   "cell_type": "code",
   "execution_count": 18,
   "id": "50927e05-5d24-4ee5-8087-9f63281c60ff",
   "metadata": {},
   "outputs": [],
   "source": [
    "narr = np.arange(1,11)"
   ]
  },
  {
   "cell_type": "code",
   "execution_count": 19,
   "id": "687c36a6-513f-41ee-a5d1-63f0261dc455",
   "metadata": {},
   "outputs": [
    {
     "data": {
      "text/plain": [
       "array([ 1,  2,  3,  4,  5,  6,  7,  8,  9, 10])"
      ]
     },
     "execution_count": 19,
     "metadata": {},
     "output_type": "execute_result"
    }
   ],
   "source": [
    "narr"
   ]
  },
  {
   "cell_type": "code",
   "execution_count": 25,
   "id": "3bb73547-594b-4b90-a407-31dfa8e92d7f",
   "metadata": {},
   "outputs": [
    {
     "data": {
      "text/plain": [
       "array([ 1.  ,  3.25,  5.5 ,  7.75, 10.  ])"
      ]
     },
     "execution_count": 25,
     "metadata": {},
     "output_type": "execute_result"
    }
   ],
   "source": [
    "np.linspace(1,10,5)"
   ]
  },
  {
   "cell_type": "code",
   "execution_count": 26,
   "id": "31bf51cd-3bc3-43f9-830b-5f90651419c0",
   "metadata": {},
   "outputs": [
    {
     "data": {
      "text/plain": [
       "array([[[1., 1., 1.],\n",
       "        [1., 1., 1.]],\n",
       "\n",
       "       [[1., 1., 1.],\n",
       "        [1., 1., 1.]],\n",
       "\n",
       "       [[1., 1., 1.],\n",
       "        [1., 1., 1.]]])"
      ]
     },
     "execution_count": 26,
     "metadata": {},
     "output_type": "execute_result"
    }
   ],
   "source": [
    "np.ones(shape=(3,2,3))"
   ]
  },
  {
   "cell_type": "code",
   "execution_count": 27,
   "id": "6a9fe0be-9edc-49f1-9976-e1a80846b812",
   "metadata": {},
   "outputs": [
    {
     "data": {
      "text/plain": [
       "array([[[0., 0., 0.],\n",
       "        [0., 0., 0.]],\n",
       "\n",
       "       [[0., 0., 0.],\n",
       "        [0., 0., 0.]],\n",
       "\n",
       "       [[0., 0., 0.],\n",
       "        [0., 0., 0.]]])"
      ]
     },
     "execution_count": 27,
     "metadata": {},
     "output_type": "execute_result"
    }
   ],
   "source": [
    "np.zeros(shape=(3,2,3))"
   ]
  },
  {
   "cell_type": "code",
   "execution_count": 30,
   "id": "f86cb53d-ee82-41e3-988d-3134b7e5c1e0",
   "metadata": {},
   "outputs": [
    {
     "data": {
      "text/plain": [
       "array([[1., 0., 0., 0.],\n",
       "       [0., 1., 0., 0.],\n",
       "       [0., 0., 1., 0.],\n",
       "       [0., 0., 0., 1.]])"
      ]
     },
     "execution_count": 30,
     "metadata": {},
     "output_type": "execute_result"
    }
   ],
   "source": [
    "np.eye(4,4) #gives identity matrix"
   ]
  },
  {
   "cell_type": "code",
   "execution_count": 32,
   "id": "5ca99ac4-b545-4458-9a34-1a83022263fe",
   "metadata": {},
   "outputs": [],
   "source": [
    "narr = np.arange(1,101)"
   ]
  },
  {
   "cell_type": "code",
   "execution_count": 33,
   "id": "3c774c43-de8b-40df-8de7-e73487856387",
   "metadata": {},
   "outputs": [
    {
     "data": {
      "text/plain": [
       "array([[  1,   2,   3,   4,   5,   6,   7,   8,   9,  10],\n",
       "       [ 11,  12,  13,  14,  15,  16,  17,  18,  19,  20],\n",
       "       [ 21,  22,  23,  24,  25,  26,  27,  28,  29,  30],\n",
       "       [ 31,  32,  33,  34,  35,  36,  37,  38,  39,  40],\n",
       "       [ 41,  42,  43,  44,  45,  46,  47,  48,  49,  50],\n",
       "       [ 51,  52,  53,  54,  55,  56,  57,  58,  59,  60],\n",
       "       [ 61,  62,  63,  64,  65,  66,  67,  68,  69,  70],\n",
       "       [ 71,  72,  73,  74,  75,  76,  77,  78,  79,  80],\n",
       "       [ 81,  82,  83,  84,  85,  86,  87,  88,  89,  90],\n",
       "       [ 91,  92,  93,  94,  95,  96,  97,  98,  99, 100]])"
      ]
     },
     "execution_count": 33,
     "metadata": {},
     "output_type": "execute_result"
    }
   ],
   "source": [
    "narr.reshape((10,10))"
   ]
  },
  {
   "cell_type": "code",
   "execution_count": null,
   "id": "53a22633-c100-4e9c-bfc1-9685cb015021",
   "metadata": {},
   "outputs": [],
   "source": []
  },
  {
   "cell_type": "code",
   "execution_count": 35,
   "id": "a8ab1b59-7d13-4b32-85fa-5567047bf5ce",
   "metadata": {},
   "outputs": [
    {
     "data": {
      "text/plain": [
       "array([[[ 0.65883611,  1.53973289],\n",
       "        [-0.59843243, -1.20766176]],\n",
       "\n",
       "       [[-0.23893778, -0.51344031],\n",
       "        [-1.71960453,  0.84841897]],\n",
       "\n",
       "       [[-1.30438333, -0.92184428],\n",
       "        [-0.10478422, -0.33756765]]])"
      ]
     },
     "execution_count": 35,
     "metadata": {},
     "output_type": "execute_result"
    }
   ],
   "source": [
    "np.random.randn(3,2,2)"
   ]
  },
  {
   "cell_type": "code",
   "execution_count": 37,
   "id": "a5f489f1-daf7-4533-9fe3-12d5c75d13b9",
   "metadata": {},
   "outputs": [
    {
     "data": {
      "text/plain": [
       "array([[76, 56],\n",
       "       [10, 65],\n",
       "       [30, 21],\n",
       "       [17, 99],\n",
       "       [71, 97]])"
      ]
     },
     "execution_count": 37,
     "metadata": {},
     "output_type": "execute_result"
    }
   ],
   "source": [
    "np.random.randint(1,101,size=(5,2))"
   ]
  },
  {
   "cell_type": "code",
   "execution_count": 38,
   "id": "27333eb7-42e3-44b5-bfd0-be2a94ed683c",
   "metadata": {},
   "outputs": [
    {
     "data": {
      "text/plain": [
       "array([[0.15006146, 0.31936307],\n",
       "       [0.29135889, 0.11582659],\n",
       "       [0.70689073, 0.49060434],\n",
       "       [0.39728588, 0.81602579],\n",
       "       [0.78944735, 0.48479701]])"
      ]
     },
     "execution_count": 38,
     "metadata": {},
     "output_type": "execute_result"
    }
   ],
   "source": [
    "np.random.random(size=(5,2))"
   ]
  },
  {
   "cell_type": "code",
   "execution_count": 41,
   "id": "31a76ab7-6ae3-4ed1-b551-c4fd55262aa6",
   "metadata": {},
   "outputs": [
    {
     "data": {
      "text/plain": [
       "array([[17, 69, 49],\n",
       "       [ 5, 61, 43],\n",
       "       [53, 41, 85],\n",
       "       [39, 81, 75],\n",
       "       [ 9, 55, 47]])"
      ]
     },
     "execution_count": 41,
     "metadata": {},
     "output_type": "execute_result"
    }
   ],
   "source": [
    "np.random.choice(np.arange(1,101,2),size=(5,3),replace = False)"
   ]
  },
  {
   "cell_type": "code",
   "execution_count": 44,
   "id": "0c9f20c8-5002-45d2-b747-6977d9804a44",
   "metadata": {},
   "outputs": [],
   "source": [
    "narr=np.arange(1,101)\n",
    "np.random.shuffle(narr)"
   ]
  },
  {
   "cell_type": "code",
   "execution_count": 45,
   "id": "2bdee622-9c1f-4bd7-bc1a-26af8e9c9fe3",
   "metadata": {},
   "outputs": [
    {
     "data": {
      "text/plain": [
       "array([ 66,  63,  22,  77,   2,  17,   9,  11,  91,  35,  14,  28,  89,\n",
       "        70,  12,  64,  68,  67,  94,  84,  49,  15,  72,  53,  16,  58,\n",
       "        76,  23,  41,  65,  57,  30,  88,  21,  86,  62,  55,   1,   5,\n",
       "        81,  79,  82,  93,  43,  34,  38,   8,  83,  92,   3,  59,  24,\n",
       "        99,  97,  26,  75,  33, 100,  61,  29,  96,  95,  10,  13,  85,\n",
       "        87,  60,  36,  78,  32,  56,  42,  73,  31,   6,  27,  48,  47,\n",
       "        20,  40,  18,  71,  44,  98,  54,  52,  19,   4,  50,  25,  46,\n",
       "        74,  39,  69,  80,  90,  51,  45,   7,  37])"
      ]
     },
     "execution_count": 45,
     "metadata": {},
     "output_type": "execute_result"
    }
   ],
   "source": [
    "narr"
   ]
  },
  {
   "cell_type": "code",
   "execution_count": 47,
   "id": "aa88a252-01c1-412f-9085-329a6872a7e8",
   "metadata": {},
   "outputs": [],
   "source": [
    "narr = narr.reshape((-1,))"
   ]
  },
  {
   "cell_type": "code",
   "execution_count": null,
   "id": "5cd5043c-4452-417b-adf8-4b6f5976a71e",
   "metadata": {},
   "outputs": [],
   "source": []
  },
  {
   "cell_type": "code",
   "execution_count": 51,
   "id": "f433a047-73f2-4c47-a536-5f15783a3935",
   "metadata": {},
   "outputs": [],
   "source": [
    "narr = np.arange(1,101).reshape(10,10)"
   ]
  },
  {
   "cell_type": "code",
   "execution_count": 52,
   "id": "6bf6893e-5d4d-432e-b51e-14bc451b77a7",
   "metadata": {},
   "outputs": [
    {
     "data": {
      "text/plain": [
       "array([[  1,   2,   3,   4,   5,   6,   7,   8,   9,  10],\n",
       "       [ 11,  12,  13,  14,  15,  16,  17,  18,  19,  20],\n",
       "       [ 21,  22,  23,  24,  25,  26,  27,  28,  29,  30],\n",
       "       [ 31,  32,  33,  34,  35,  36,  37,  38,  39,  40],\n",
       "       [ 41,  42,  43,  44,  45,  46,  47,  48,  49,  50],\n",
       "       [ 51,  52,  53,  54,  55,  56,  57,  58,  59,  60],\n",
       "       [ 61,  62,  63,  64,  65,  66,  67,  68,  69,  70],\n",
       "       [ 71,  72,  73,  74,  75,  76,  77,  78,  79,  80],\n",
       "       [ 81,  82,  83,  84,  85,  86,  87,  88,  89,  90],\n",
       "       [ 91,  92,  93,  94,  95,  96,  97,  98,  99, 100]])"
      ]
     },
     "execution_count": 52,
     "metadata": {},
     "output_type": "execute_result"
    }
   ],
   "source": [
    "narr"
   ]
  },
  {
   "cell_type": "code",
   "execution_count": 66,
   "id": "9f134cf3-6126-4aac-8d31-ebef24dab321",
   "metadata": {},
   "outputs": [],
   "source": [
    "narr[3:7,4:8] =np.eye(4)"
   ]
  },
  {
   "cell_type": "code",
   "execution_count": 67,
   "id": "91104e65-9727-446e-be3f-4abc3614b355",
   "metadata": {},
   "outputs": [
    {
     "data": {
      "text/plain": [
       "array([[  1,   2,   3,   4,   5,   6,   7,   8,   9,  10],\n",
       "       [ 11,  12,  13,  14,  15,  16,  17,  18,  19,  20],\n",
       "       [ 21,  22,  23,  24,  25,  26,  27,  28,  29,  30],\n",
       "       [ 31,  32,  33,  34,   1,   0,   0,   0,  39,  40],\n",
       "       [ 41,  42,  43,  44,   0,   1,   0,   0,  49,  50],\n",
       "       [ 51,  52,  53,  54,   0,   0,   1,   0,  59,  60],\n",
       "       [ 61,  62,  63,  64,   0,   0,   0,   1,  69,  70],\n",
       "       [ 71,  72,  73,  74,  75,  76,  77,  78,  79,  80],\n",
       "       [ 81,  82,  83,  84,  85,  86,  87,  88,  89,  90],\n",
       "       [ 91,  92,  93,  94,  95,  96,  97,  98,  99, 100]])"
      ]
     },
     "execution_count": 67,
     "metadata": {},
     "output_type": "execute_result"
    }
   ],
   "source": [
    "narr"
   ]
  },
  {
   "cell_type": "code",
   "execution_count": 68,
   "id": "83630d0d-59db-4bed-9da1-d9cc163931b7",
   "metadata": {},
   "outputs": [],
   "source": [
    "brr = narr[3:7,4:8]"
   ]
  },
  {
   "cell_type": "code",
   "execution_count": 71,
   "id": "bd356725-faec-41de-9d8c-bf32cd8910f3",
   "metadata": {},
   "outputs": [],
   "source": [
    "brr[1:3,1:3] = np.ones(shape=(2,2))"
   ]
  },
  {
   "cell_type": "code",
   "execution_count": 72,
   "id": "72a47817-7eba-424b-9e04-f1d805f87c55",
   "metadata": {},
   "outputs": [
    {
     "data": {
      "text/plain": [
       "array([[1, 0, 0, 0],\n",
       "       [0, 1, 1, 0],\n",
       "       [0, 1, 1, 0],\n",
       "       [0, 0, 0, 1]])"
      ]
     },
     "execution_count": 72,
     "metadata": {},
     "output_type": "execute_result"
    }
   ],
   "source": [
    "brr"
   ]
  },
  {
   "cell_type": "code",
   "execution_count": 73,
   "id": "7f9d90c4-88f2-4998-b853-87944f73e9db",
   "metadata": {},
   "outputs": [
    {
     "data": {
      "text/plain": [
       "array([[  1,   2,   3,   4,   5,   6,   7,   8,   9,  10],\n",
       "       [ 11,  12,  13,  14,  15,  16,  17,  18,  19,  20],\n",
       "       [ 21,  22,  23,  24,  25,  26,  27,  28,  29,  30],\n",
       "       [ 31,  32,  33,  34,   1,   0,   0,   0,  39,  40],\n",
       "       [ 41,  42,  43,  44,   0,   1,   1,   0,  49,  50],\n",
       "       [ 51,  52,  53,  54,   0,   1,   1,   0,  59,  60],\n",
       "       [ 61,  62,  63,  64,   0,   0,   0,   1,  69,  70],\n",
       "       [ 71,  72,  73,  74,  75,  76,  77,  78,  79,  80],\n",
       "       [ 81,  82,  83,  84,  85,  86,  87,  88,  89,  90],\n",
       "       [ 91,  92,  93,  94,  95,  96,  97,  98,  99, 100]])"
      ]
     },
     "execution_count": 73,
     "metadata": {},
     "output_type": "execute_result"
    }
   ],
   "source": [
    "narr"
   ]
  },
  {
   "cell_type": "code",
   "execution_count": 80,
   "id": "ebe6bcbb-3764-4b62-bb6b-248232cc9206",
   "metadata": {},
   "outputs": [],
   "source": [
    "n1=np.array([1,2,3,4,5,])\n",
    "n2=np.array([10,20,30,40,50])"
   ]
  },
  {
   "cell_type": "code",
   "execution_count": 81,
   "id": "32421bba-9d54-407a-a15d-229204516f7c",
   "metadata": {},
   "outputs": [
    {
     "data": {
      "text/plain": [
       "array([11, 12, 13, 14, 15])"
      ]
     },
     "execution_count": 81,
     "metadata": {},
     "output_type": "execute_result"
    }
   ],
   "source": [
    "n1+10"
   ]
  },
  {
   "cell_type": "code",
   "execution_count": 82,
   "id": "fb02ee0f-b9d5-4020-9f7a-c41163a572dd",
   "metadata": {},
   "outputs": [
    {
     "data": {
      "text/plain": [
       "array([11, 22, 33, 44, 55])"
      ]
     },
     "execution_count": 82,
     "metadata": {},
     "output_type": "execute_result"
    }
   ],
   "source": [
    "n1+n2"
   ]
  },
  {
   "cell_type": "code",
   "execution_count": null,
   "id": "74d4e8c3-c8b6-409f-9de0-f177f377df4b",
   "metadata": {},
   "outputs": [],
   "source": []
  },
  {
   "cell_type": "code",
   "execution_count": null,
   "id": "7b151a05-d624-49f0-aac6-2df5774c1804",
   "metadata": {},
   "outputs": [],
   "source": []
  },
  {
   "cell_type": "code",
   "execution_count": 2,
   "id": "9c7d9370-2ba7-497f-9b0b-8a7e381fe582",
   "metadata": {},
   "outputs": [],
   "source": [
    "import numpy as np\n",
    "n1=np.array([1,2,3,4,5])\n",
    "n2=np.array([10,20,30,40,50])"
   ]
  },
  {
   "cell_type": "code",
   "execution_count": 3,
   "id": "6d0286d9-bb2b-4099-9c2e-fdf5cbb22fad",
   "metadata": {},
   "outputs": [
    {
     "data": {
      "text/plain": [
       "array([4, 5, 6, 7, 8])"
      ]
     },
     "execution_count": 3,
     "metadata": {},
     "output_type": "execute_result"
    }
   ],
   "source": [
    "n1+3"
   ]
  },
  {
   "cell_type": "code",
   "execution_count": 4,
   "id": "88e968e1-bcbc-47c1-97d7-311e14e3bedc",
   "metadata": {},
   "outputs": [
    {
     "data": {
      "text/plain": [
       "array([-2, -1,  0,  1,  2])"
      ]
     },
     "execution_count": 4,
     "metadata": {},
     "output_type": "execute_result"
    }
   ],
   "source": [
    "n1-3"
   ]
  },
  {
   "cell_type": "code",
   "execution_count": 5,
   "id": "eb2771a1-0e0e-49f3-ae90-50b7f2fa9b63",
   "metadata": {},
   "outputs": [
    {
     "data": {
      "text/plain": [
       "array([0.33333333, 0.66666667, 1.        , 1.33333333, 1.66666667])"
      ]
     },
     "execution_count": 5,
     "metadata": {},
     "output_type": "execute_result"
    }
   ],
   "source": [
    "n1/3"
   ]
  },
  {
   "cell_type": "code",
   "execution_count": 6,
   "id": "7729890d-59b8-49de-b7f5-2dae9928d261",
   "metadata": {},
   "outputs": [
    {
     "data": {
      "text/plain": [
       "array([0, 0, 1, 1, 1])"
      ]
     },
     "execution_count": 6,
     "metadata": {},
     "output_type": "execute_result"
    }
   ],
   "source": [
    "n1//3"
   ]
  },
  {
   "cell_type": "code",
   "execution_count": 7,
   "id": "b5d7cc54-c2f5-4538-8490-ec2063d7efa3",
   "metadata": {},
   "outputs": [
    {
     "data": {
      "text/plain": [
       "array([False, False, False,  True,  True])"
      ]
     },
     "execution_count": 7,
     "metadata": {},
     "output_type": "execute_result"
    }
   ],
   "source": [
    "n1>3"
   ]
  },
  {
   "cell_type": "code",
   "execution_count": 8,
   "id": "ccb47617-678d-43df-8654-39937f136d92",
   "metadata": {},
   "outputs": [],
   "source": [
    "n1=np.array([[1,2,3],[4,5,6]])\n",
    "n2=np.array([[10,20,30],[40,50,60]])"
   ]
  },
  {
   "cell_type": "code",
   "execution_count": 9,
   "id": "f1fad0a0-559e-4036-91cc-3b7794d06530",
   "metadata": {},
   "outputs": [
    {
     "data": {
      "text/plain": [
       "array([[11, 22, 33],\n",
       "       [44, 55, 66]])"
      ]
     },
     "execution_count": 9,
     "metadata": {},
     "output_type": "execute_result"
    }
   ],
   "source": [
    "n1+n2"
   ]
  },
  {
   "cell_type": "code",
   "execution_count": 10,
   "id": "fbe7b78e-2dbf-4d58-8506-f0f1af0e2ffd",
   "metadata": {},
   "outputs": [
    {
     "data": {
      "text/plain": [
       "array([[ -9, -18, -27],\n",
       "       [-36, -45, -54]])"
      ]
     },
     "execution_count": 10,
     "metadata": {},
     "output_type": "execute_result"
    }
   ],
   "source": [
    "n1-n2"
   ]
  },
  {
   "cell_type": "code",
   "execution_count": 11,
   "id": "1b4797bb-ae3a-4629-ab21-901bfe5f52eb",
   "metadata": {},
   "outputs": [
    {
     "data": {
      "text/plain": [
       "array([[0, 0, 0],\n",
       "       [0, 0, 0]])"
      ]
     },
     "execution_count": 11,
     "metadata": {},
     "output_type": "execute_result"
    }
   ],
   "source": [
    "n1-n1"
   ]
  },
  {
   "cell_type": "code",
   "execution_count": 12,
   "id": "5a52f828-d23e-4ba2-b937-65ec04032050",
   "metadata": {},
   "outputs": [
    {
     "ename": "NameError",
     "evalue": "name 'm1' is not defined",
     "output_type": "error",
     "traceback": [
      "\u001b[0;31m---------------------------------------------------------------------------\u001b[0m",
      "\u001b[0;31mNameError\u001b[0m                                 Traceback (most recent call last)",
      "Cell \u001b[0;32mIn[12], line 1\u001b[0m\n\u001b[0;32m----> 1\u001b[0m \u001b[43mm1\u001b[49m\u001b[38;5;241m*\u001b[39mn2\n",
      "\u001b[0;31mNameError\u001b[0m: name 'm1' is not defined"
     ]
    }
   ],
   "source": [
    "m1*n2"
   ]
  },
  {
   "cell_type": "code",
   "execution_count": 13,
   "id": "dbc8d1ba-8010-46ee-be4d-930cd9c469d0",
   "metadata": {},
   "outputs": [
    {
     "data": {
      "text/plain": [
       "array([[ 10,  40,  90],\n",
       "       [160, 250, 360]])"
      ]
     },
     "execution_count": 13,
     "metadata": {},
     "output_type": "execute_result"
    }
   ],
   "source": [
    "n1*n2"
   ]
  },
  {
   "cell_type": "code",
   "execution_count": 14,
   "id": "85858d2c-b365-423d-8213-10e6f11ae991",
   "metadata": {},
   "outputs": [
    {
     "data": {
      "text/plain": [
       "array([[0.1, 0.1, 0.1],\n",
       "       [0.1, 0.1, 0.1]])"
      ]
     },
     "execution_count": 14,
     "metadata": {},
     "output_type": "execute_result"
    }
   ],
   "source": [
    "n1/n2"
   ]
  },
  {
   "cell_type": "code",
   "execution_count": 15,
   "id": "cd5d02d2-7f63-4f16-9ec3-5a0b0b8f1bcb",
   "metadata": {},
   "outputs": [
    {
     "data": {
      "text/plain": [
       "array([[ True,  True,  True],\n",
       "       [ True,  True,  True]])"
      ]
     },
     "execution_count": 15,
     "metadata": {},
     "output_type": "execute_result"
    }
   ],
   "source": [
    "n1 <n2"
   ]
  },
  {
   "cell_type": "code",
   "execution_count": 16,
   "id": "13dae311-79b7-48c9-a81b-2b3083453f95",
   "metadata": {},
   "outputs": [
    {
     "data": {
      "text/plain": [
       "array([[ 20,  40,  60],\n",
       "       [ 80, 100, 120]])"
      ]
     },
     "execution_count": 16,
     "metadata": {},
     "output_type": "execute_result"
    }
   ],
   "source": [
    "n1*10+n2"
   ]
  },
  {
   "cell_type": "code",
   "execution_count": 18,
   "id": "0b0cb533-7d13-4df2-ae23-06bf3d7a235b",
   "metadata": {},
   "outputs": [],
   "source": [
    "n1 = np.arange(1,21)"
   ]
  },
  {
   "cell_type": "code",
   "execution_count": 19,
   "id": "47d7d8cf-83c5-4ba4-a7b1-9e3a78a58827",
   "metadata": {},
   "outputs": [
    {
     "data": {
      "text/plain": [
       "array([ 1,  2,  3,  4,  5,  6,  7,  8,  9, 10, 11, 12, 13, 14, 15, 16, 17,\n",
       "       18, 19, 20])"
      ]
     },
     "execution_count": 19,
     "metadata": {},
     "output_type": "execute_result"
    }
   ],
   "source": [
    "n1"
   ]
  },
  {
   "cell_type": "code",
   "execution_count": 20,
   "id": "041b2cc5-45d5-4769-96a9-19f16f727aac",
   "metadata": {},
   "outputs": [],
   "source": [
    "np.random.shuffle(n1)"
   ]
  },
  {
   "cell_type": "code",
   "execution_count": 21,
   "id": "8faeb9a7-193c-4843-9369-60718e53b1eb",
   "metadata": {},
   "outputs": [
    {
     "data": {
      "text/plain": [
       "array([ 2, 16,  3, 15, 10, 13,  7, 20, 14,  5,  9,  4, 12,  1, 11, 18, 17,\n",
       "        8,  6, 19])"
      ]
     },
     "execution_count": 21,
     "metadata": {},
     "output_type": "execute_result"
    }
   ],
   "source": [
    "n1"
   ]
  },
  {
   "cell_type": "code",
   "execution_count": 23,
   "id": "729c7a78-37c7-46d0-a12b-7f132c62f166",
   "metadata": {},
   "outputs": [
    {
     "data": {
      "text/plain": [
       "array([16, 10,  9])"
      ]
     },
     "execution_count": 23,
     "metadata": {},
     "output_type": "execute_result"
    }
   ],
   "source": [
    "n1[[1,4,10]]"
   ]
  },
  {
   "cell_type": "code",
   "execution_count": 47,
   "id": "95b9225e-3282-433c-a167-a0fc943d4e19",
   "metadata": {},
   "outputs": [],
   "source": [
    "n1 = np.arange(1,101).reshape((10,10))"
   ]
  },
  {
   "cell_type": "code",
   "execution_count": 48,
   "id": "40b6ac9d-562d-47ec-ac3e-868591df57ff",
   "metadata": {},
   "outputs": [
    {
     "data": {
      "text/plain": [
       "array([[  1,   2,   3,   4,   5,   6,   7,   8,   9,  10],\n",
       "       [ 11,  12,  13,  14,  15,  16,  17,  18,  19,  20],\n",
       "       [ 21,  22,  23,  24,  25,  26,  27,  28,  29,  30],\n",
       "       [ 31,  32,  33,  34,  35,  36,  37,  38,  39,  40],\n",
       "       [ 41,  42,  43,  44,  45,  46,  47,  48,  49,  50],\n",
       "       [ 51,  52,  53,  54,  55,  56,  57,  58,  59,  60],\n",
       "       [ 61,  62,  63,  64,  65,  66,  67,  68,  69,  70],\n",
       "       [ 71,  72,  73,  74,  75,  76,  77,  78,  79,  80],\n",
       "       [ 81,  82,  83,  84,  85,  86,  87,  88,  89,  90],\n",
       "       [ 91,  92,  93,  94,  95,  96,  97,  98,  99, 100]])"
      ]
     },
     "execution_count": 48,
     "metadata": {},
     "output_type": "execute_result"
    }
   ],
   "source": [
    "n1"
   ]
  },
  {
   "cell_type": "code",
   "execution_count": null,
   "id": "6dbc7ad2-3bdd-4f9d-93cd-e88b44199385",
   "metadata": {},
   "outputs": [],
   "source": []
  },
  {
   "cell_type": "code",
   "execution_count": 49,
   "id": "498b9e85-2673-4139-b3d9-99b8183be14f",
   "metadata": {},
   "outputs": [
    {
     "data": {
      "text/plain": [
       "array([11, 44, 88])"
      ]
     },
     "execution_count": 49,
     "metadata": {},
     "output_type": "execute_result"
    }
   ],
   "source": [
    "n1[[1,4,8],[0,3,7]]"
   ]
  },
  {
   "cell_type": "code",
   "execution_count": 51,
   "id": "91e670a3-ce40-4801-8c96-c0db07e759b7",
   "metadata": {},
   "outputs": [
    {
     "data": {
      "text/plain": [
       "array([[  1,   2,   3,   4,   5,   6,   7,   8,   9,  10],\n",
       "       [ 31,  32,  33,  34,  35,  36,  37,  38,  39,  40],\n",
       "       [ 71,  72,  73,  74,  75,  76,  77,  78,  79,  80],\n",
       "       [ 91,  92,  93,  94,  95,  96,  97,  98,  99, 100]])"
      ]
     },
     "execution_count": 51,
     "metadata": {},
     "output_type": "execute_result"
    }
   ],
   "source": [
    "n1[[True,False,False,True,False,False,False,True,False,True]]"
   ]
  },
  {
   "cell_type": "code",
   "execution_count": 54,
   "id": "b97a5006-1614-4f8c-a428-a128e08d7ca2",
   "metadata": {},
   "outputs": [
    {
     "data": {
      "text/plain": [
       "array([ 11,  12,  13,  14,  15,  16,  17,  18,  19,  20,  21,  22,  23,\n",
       "        24,  25,  26,  27,  28,  29,  30,  31,  32,  33,  34,  35,  36,\n",
       "        37,  38,  39,  40,  41,  42,  43,  44,  45,  46,  47,  48,  49,\n",
       "        50,  51,  52,  53,  54,  55,  56,  57,  58,  59,  60,  61,  62,\n",
       "        63,  64,  65,  66,  67,  68,  69,  70,  71,  72,  73,  74,  75,\n",
       "        76,  77,  78,  79,  80,  81,  82,  83,  84,  85,  86,  87,  88,\n",
       "        89,  90,  91,  92,  93,  94,  95,  96,  97,  98,  99, 100])"
      ]
     },
     "execution_count": 54,
     "metadata": {},
     "output_type": "execute_result"
    }
   ],
   "source": [
    "n1[n1>10]"
   ]
  },
  {
   "cell_type": "code",
   "execution_count": 57,
   "id": "c4da9f65-fbb3-439b-b5d5-1ba0f4ba9467",
   "metadata": {},
   "outputs": [],
   "source": [
    "n3=np.array([[1,2,3],[4,5,6],[7,8,9]])"
   ]
  },
  {
   "cell_type": "code",
   "execution_count": 58,
   "id": "d0f24014-f0b5-415e-99f1-6ec6c2e1a85d",
   "metadata": {},
   "outputs": [
    {
     "data": {
      "text/plain": [
       "array([[1, 2, 3],\n",
       "       [4, 5, 6],\n",
       "       [7, 8, 9]])"
      ]
     },
     "execution_count": 58,
     "metadata": {},
     "output_type": "execute_result"
    }
   ],
   "source": [
    "n3"
   ]
  },
  {
   "cell_type": "code",
   "execution_count": 62,
   "id": "3a43ab14-bd8a-419c-8b49-08bc9eb367ea",
   "metadata": {},
   "outputs": [
    {
     "data": {
      "text/plain": [
       "np.int64(45)"
      ]
     },
     "execution_count": 62,
     "metadata": {},
     "output_type": "execute_result"
    }
   ],
   "source": [
    "n3.sum()\n",
    "np.sum(n3)"
   ]
  },
  {
   "cell_type": "code",
   "execution_count": 75,
   "id": "b81afd63-4cbb-468a-bad0-213c8e74e4e5",
   "metadata": {},
   "outputs": [],
   "source": [
    "n4=np.array([[[1,2],[3,4],[5,6]],[[10,20],[30,40],[50,60]]])"
   ]
  },
  {
   "cell_type": "code",
   "execution_count": 76,
   "id": "c571669b-e313-4a38-a2fd-79b46eda05f6",
   "metadata": {},
   "outputs": [
    {
     "data": {
      "text/plain": [
       "array([[[ 1,  2],\n",
       "        [ 3,  4],\n",
       "        [ 5,  6]],\n",
       "\n",
       "       [[10, 20],\n",
       "        [30, 40],\n",
       "        [50, 60]]])"
      ]
     },
     "execution_count": 76,
     "metadata": {},
     "output_type": "execute_result"
    }
   ],
   "source": [
    "n4"
   ]
  },
  {
   "cell_type": "code",
   "execution_count": 77,
   "id": "53a5ba83-b9e3-43d9-9ec8-4b70461d4e1c",
   "metadata": {},
   "outputs": [
    {
     "data": {
      "text/plain": [
       "array([[11, 22],\n",
       "       [33, 44],\n",
       "       [55, 66]])"
      ]
     },
     "execution_count": 77,
     "metadata": {},
     "output_type": "execute_result"
    }
   ],
   "source": [
    "n4.sum(axis=0)"
   ]
  },
  {
   "cell_type": "code",
   "execution_count": 78,
   "id": "8219a278-5384-461d-b567-6a63298a01d6",
   "metadata": {},
   "outputs": [
    {
     "data": {
      "text/plain": [
       "array([[  9,  12],\n",
       "       [ 90, 120]])"
      ]
     },
     "execution_count": 78,
     "metadata": {},
     "output_type": "execute_result"
    }
   ],
   "source": [
    "n4.sum(axis=1)"
   ]
  },
  {
   "cell_type": "code",
   "execution_count": 79,
   "id": "cd7efca7-a360-4774-b33b-10252ed2d3b1",
   "metadata": {},
   "outputs": [
    {
     "data": {
      "text/plain": [
       "array([[  3,   7,  11],\n",
       "       [ 30,  70, 110]])"
      ]
     },
     "execution_count": 79,
     "metadata": {},
     "output_type": "execute_result"
    }
   ],
   "source": [
    "n4.sum(axis=2)"
   ]
  },
  {
   "cell_type": "code",
   "execution_count": 84,
   "id": "66b680b3-cf4f-4aa2-949e-5ec5cc2eefe1",
   "metadata": {},
   "outputs": [
    {
     "data": {
      "text/plain": [
       "array([ 6, 15, 24])"
      ]
     },
     "execution_count": 84,
     "metadata": {},
     "output_type": "execute_result"
    }
   ],
   "source": [
    "n3.sum(axis=1)"
   ]
  },
  {
   "cell_type": "code",
   "execution_count": 86,
   "id": "a4a1ee13-fb4d-4fe8-885f-c5b60acc5277",
   "metadata": {},
   "outputs": [
    {
     "name": "stdout",
     "output_type": "stream",
     "text": [
      "((0, 0), np.int64(1))\n",
      "((0, 1), np.int64(2))\n",
      "((0, 2), np.int64(3))\n",
      "((0, 3), np.int64(4))\n",
      "((0, 4), np.int64(5))\n",
      "((0, 5), np.int64(6))\n",
      "((0, 6), np.int64(7))\n",
      "((0, 7), np.int64(8))\n",
      "((0, 8), np.int64(9))\n",
      "((0, 9), np.int64(10))\n",
      "((1, 0), np.int64(11))\n",
      "((1, 1), np.int64(12))\n",
      "((1, 2), np.int64(13))\n",
      "((1, 3), np.int64(14))\n",
      "((1, 4), np.int64(15))\n",
      "((1, 5), np.int64(16))\n",
      "((1, 6), np.int64(17))\n",
      "((1, 7), np.int64(18))\n",
      "((1, 8), np.int64(19))\n",
      "((1, 9), np.int64(20))\n",
      "((2, 0), np.int64(21))\n",
      "((2, 1), np.int64(22))\n",
      "((2, 2), np.int64(23))\n",
      "((2, 3), np.int64(24))\n",
      "((2, 4), np.int64(25))\n",
      "((2, 5), np.int64(26))\n",
      "((2, 6), np.int64(27))\n",
      "((2, 7), np.int64(28))\n",
      "((2, 8), np.int64(29))\n",
      "((2, 9), np.int64(30))\n",
      "((3, 0), np.int64(31))\n",
      "((3, 1), np.int64(32))\n",
      "((3, 2), np.int64(33))\n",
      "((3, 3), np.int64(34))\n",
      "((3, 4), np.int64(35))\n",
      "((3, 5), np.int64(36))\n",
      "((3, 6), np.int64(37))\n",
      "((3, 7), np.int64(38))\n",
      "((3, 8), np.int64(39))\n",
      "((3, 9), np.int64(40))\n",
      "((4, 0), np.int64(41))\n",
      "((4, 1), np.int64(42))\n",
      "((4, 2), np.int64(43))\n",
      "((4, 3), np.int64(44))\n",
      "((4, 4), np.int64(45))\n",
      "((4, 5), np.int64(46))\n",
      "((4, 6), np.int64(47))\n",
      "((4, 7), np.int64(48))\n",
      "((4, 8), np.int64(49))\n",
      "((4, 9), np.int64(50))\n",
      "((5, 0), np.int64(51))\n",
      "((5, 1), np.int64(52))\n",
      "((5, 2), np.int64(53))\n",
      "((5, 3), np.int64(54))\n",
      "((5, 4), np.int64(55))\n",
      "((5, 5), np.int64(56))\n",
      "((5, 6), np.int64(57))\n",
      "((5, 7), np.int64(58))\n",
      "((5, 8), np.int64(59))\n",
      "((5, 9), np.int64(60))\n",
      "((6, 0), np.int64(61))\n",
      "((6, 1), np.int64(62))\n",
      "((6, 2), np.int64(63))\n",
      "((6, 3), np.int64(64))\n",
      "((6, 4), np.int64(65))\n",
      "((6, 5), np.int64(66))\n",
      "((6, 6), np.int64(67))\n",
      "((6, 7), np.int64(68))\n",
      "((6, 8), np.int64(69))\n",
      "((6, 9), np.int64(70))\n",
      "((7, 0), np.int64(71))\n",
      "((7, 1), np.int64(72))\n",
      "((7, 2), np.int64(73))\n",
      "((7, 3), np.int64(74))\n",
      "((7, 4), np.int64(75))\n",
      "((7, 5), np.int64(76))\n",
      "((7, 6), np.int64(77))\n",
      "((7, 7), np.int64(78))\n",
      "((7, 8), np.int64(79))\n",
      "((7, 9), np.int64(80))\n",
      "((8, 0), np.int64(81))\n",
      "((8, 1), np.int64(82))\n",
      "((8, 2), np.int64(83))\n",
      "((8, 3), np.int64(84))\n",
      "((8, 4), np.int64(85))\n",
      "((8, 5), np.int64(86))\n",
      "((8, 6), np.int64(87))\n",
      "((8, 7), np.int64(88))\n",
      "((8, 8), np.int64(89))\n",
      "((8, 9), np.int64(90))\n",
      "((9, 0), np.int64(91))\n",
      "((9, 1), np.int64(92))\n",
      "((9, 2), np.int64(93))\n",
      "((9, 3), np.int64(94))\n",
      "((9, 4), np.int64(95))\n",
      "((9, 5), np.int64(96))\n",
      "((9, 6), np.int64(97))\n",
      "((9, 7), np.int64(98))\n",
      "((9, 8), np.int64(99))\n",
      "((9, 9), np.int64(100))\n"
     ]
    }
   ],
   "source": [
    "for t in np.ndenumerate(n1):\n",
    "    print(t)"
   ]
  },
  {
   "cell_type": "code",
   "execution_count": null,
   "id": "20a1330a-7db1-40fb-85c6-2cb07c276ccc",
   "metadata": {},
   "outputs": [],
   "source": []
  },
  {
   "cell_type": "code",
   "execution_count": 90,
   "id": "41db87fc-fb93-49af-9cfa-9ee23d854d22",
   "metadata": {
    "jp-MarkdownHeadingCollapsed": true
   },
   "outputs": [],
   "source": [
    "n8 = np.arange(1,13).reshape(4,3)"
   ]
  },
  {
   "cell_type": "code",
   "execution_count": 91,
   "id": "0883daa5-9aae-43df-9f7e-c43ccad37973",
   "metadata": {},
   "outputs": [
    {
     "data": {
      "text/plain": [
       "array([[ 1,  2,  3],\n",
       "       [ 4,  5,  6],\n",
       "       [ 7,  8,  9],\n",
       "       [10, 11, 12]])"
      ]
     },
     "execution_count": 91,
     "metadata": {},
     "output_type": "execute_result"
    }
   ],
   "source": [
    "n8"
   ]
  },
  {
   "cell_type": "code",
   "execution_count": 92,
   "id": "71c4987f-6ee9-4d6f-8af1-07c823976a0c",
   "metadata": {},
   "outputs": [
    {
     "data": {
      "text/plain": [
       "array([[11, 22, 33],\n",
       "       [14, 25, 36],\n",
       "       [17, 28, 39],\n",
       "       [20, 31, 42]])"
      ]
     },
     "execution_count": 92,
     "metadata": {},
     "output_type": "execute_result"
    }
   ],
   "source": [
    "np.array([10,20,30])+n8"
   ]
  },
  {
   "cell_type": "code",
   "execution_count": 101,
   "id": "e0d0e56c-c0c3-42e5-a14b-d8f206c1ab6d",
   "metadata": {},
   "outputs": [
    {
     "data": {
      "text/plain": [
       "array([ 1920., 77400., 59400., 48300.])"
      ]
     },
     "execution_count": 101,
     "metadata": {},
     "output_type": "execute_result"
    }
   ],
   "source": [
    "pop = np.loadtxt(\"population.txt\")\n",
    "pop.max(axis=0)"
   ]
  },
  {
   "cell_type": "code",
   "execution_count": 105,
   "id": "a3d45393-9c96-49d8-a2d8-aa0967fc4ee3",
   "metadata": {},
   "outputs": [
    {
     "data": {
      "text/plain": [
       "array([1903., 1904., 1900.])"
      ]
     },
     "execution_count": 105,
     "metadata": {},
     "output_type": "execute_result"
    }
   ],
   "source": [
    "pop[:,0][pop.argmax(axis=0)][1:]"
   ]
  },
  {
   "cell_type": "code",
   "execution_count": null,
   "id": "f0c40e54-2412-4bd3-9e31-42cb760db913",
   "metadata": {},
   "outputs": [],
   "source": []
  }
 ],
 "metadata": {
  "kernelspec": {
   "display_name": "Python 3 (ipykernel)",
   "language": "python",
   "name": "python3"
  },
  "language_info": {
   "codemirror_mode": {
    "name": "ipython",
    "version": 3
   },
   "file_extension": ".py",
   "mimetype": "text/x-python",
   "name": "python",
   "nbconvert_exporter": "python",
   "pygments_lexer": "ipython3",
   "version": "3.12.7"
  }
 },
 "nbformat": 4,
 "nbformat_minor": 5
}
