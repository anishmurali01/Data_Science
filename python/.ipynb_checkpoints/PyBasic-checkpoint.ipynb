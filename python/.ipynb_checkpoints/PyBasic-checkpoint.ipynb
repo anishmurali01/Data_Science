{
 "cells": [
  {
   "cell_type": "code",
   "execution_count": 2,
   "id": "e229dc17-4f9b-4bf3-8fd9-fa27ca4fd949",
   "metadata": {},
   "outputs": [
    {
     "name": "stdout",
     "output_type": "stream",
     "text": [
      "['False', 'None', 'True', 'and', 'as', 'assert', 'async', 'await', 'break', 'class', 'continue', 'def', 'del', 'elif', 'else', 'except', 'finally', 'for', 'from', 'global', 'if', 'import', 'in', 'is', 'lambda', 'nonlocal', 'not', 'or', 'pass', 'raise', 'return', 'try', 'while', 'with', 'yield'] 35\n"
     ]
    }
   ],
   "source": [
    "import keyword\n",
    "print(keyword.kwlist,len(keyword.kwlist))"
   ]
  },
  {
   "cell_type": "code",
   "execution_count": 3,
   "id": "d611b602-b68c-4094-bb36-4cdc12013749",
   "metadata": {},
   "outputs": [
    {
     "name": "stdout",
     "output_type": "stream",
     "text": [
      "10 20.5 True Hello World\n"
     ]
    }
   ],
   "source": [
    "a=10\n",
    "b=20.5\n",
    "c = True\n",
    "s = 'Hello World'\n",
    "print(a,b,c,s)"
   ]
  },
  {
   "cell_type": "code",
   "execution_count": 4,
   "id": "b875bac3-95d6-4c68-b4ea-e11688db09b5",
   "metadata": {},
   "outputs": [
    {
     "name": "stdout",
     "output_type": "stream",
     "text": [
      "100\n"
     ]
    }
   ],
   "source": [
    "d=100\n",
    "print(d)"
   ]
  },
  {
   "cell_type": "code",
   "execution_count": 5,
   "id": "852904f1-75c0-45df-a019-81a6081878c1",
   "metadata": {},
   "outputs": [
    {
     "name": "stdout",
     "output_type": "stream",
     "text": [
      "100\n"
     ]
    }
   ],
   "source": [
    "# d = 100\n",
    "print(d)"
   ]
  },
  {
   "cell_type": "code",
   "execution_count": 11,
   "id": "4b523c81-2675-45dc-8759-bce7de4e003a",
   "metadata": {},
   "outputs": [
    {
     "ename": "SyntaxError",
     "evalue": "invalid syntax (2101146132.py, line 1)",
     "output_type": "error",
     "traceback": [
      "\u001b[0;36m  Cell \u001b[0;32mIn[11], line 1\u001b[0;36m\u001b[0m\n\u001b[0;31m    f = 1 + 2 + /\u001b[0m\n\u001b[0m                ^\u001b[0m\n\u001b[0;31mSyntaxError\u001b[0m\u001b[0;31m:\u001b[0m invalid syntax\n"
     ]
    }
   ],
   "source": [
    "f = 1 + 2 + /\n",
    "4\n",
    "print(a)"
   ]
  },
  {
   "cell_type": "code",
   "execution_count": 12,
   "id": "406892a6-0fa4-46c8-bde8-4c807ff39b49",
   "metadata": {},
   "outputs": [
    {
     "name": "stdout",
     "output_type": "stream",
     "text": [
      "10,20\n"
     ]
    }
   ],
   "source": [
    "a,b=10,20\n",
    "print(a,b,sep=',')"
   ]
  },
  {
   "cell_type": "code",
   "execution_count": 14,
   "id": "b142a5b0-659e-41cb-8cb5-e776a39392f4",
   "metadata": {},
   "outputs": [
    {
     "name": "stdout",
     "output_type": "stream",
     "text": [
      "10 20\n"
     ]
    }
   ],
   "source": [
    "a,b=10,20\n",
    "print(a,b,sep=' ')"
   ]
  },
  {
   "cell_type": "code",
   "execution_count": 17,
   "id": "5df30638-b4ca-41f0-9c11-fe4365ffa101",
   "metadata": {},
   "outputs": [
    {
     "name": "stdout",
     "output_type": "stream",
     "text": [
      "10/t20\n"
     ]
    }
   ],
   "source": [
    "a,b=10,20\n",
    "print(a,b,sep='/t')"
   ]
  },
  {
   "cell_type": "code",
   "execution_count": 18,
   "id": "7fbaed41-fcaa-4d41-8ad1-6058ea6f242a",
   "metadata": {},
   "outputs": [
    {
     "name": "stdout",
     "output_type": "stream",
     "text": [
      "10 /t 20\n"
     ]
    }
   ],
   "source": [
    "a,b=10,20\n",
    "print(a,b,sep= ' /t ')"
   ]
  },
  {
   "cell_type": "code",
   "execution_count": 20,
   "id": "27623ab6-8be2-4b22-a2c0-f73ab13b4a11",
   "metadata": {},
   "outputs": [
    {
     "name": "stdout",
     "output_type": "stream",
     "text": [
      "10x20\n"
     ]
    }
   ],
   "source": [
    "print(10,end = 'x')\n",
    "print(20)"
   ]
  },
  {
   "cell_type": "code",
   "execution_count": 21,
   "id": "8b1d7762-f87f-40d2-8e66-649724e614b4",
   "metadata": {},
   "outputs": [
    {
     "name": "stdout",
     "output_type": "stream",
     "text": [
      "<class 'int'>\n",
      "<class 'float'>\n",
      "<class 'complex'>\n"
     ]
    }
   ],
   "source": [
    "a = 10\n",
    "b = 10.5\n",
    "c = 3+4j\n",
    "print(type(a))\n",
    "print(type(b))\n",
    "print(type(c))"
   ]
  },
  {
   "cell_type": "code",
   "execution_count": 23,
   "id": "2c2befd1-2735-4343-b5e2-4423946d7661",
   "metadata": {},
   "outputs": [
    {
     "name": "stdout",
     "output_type": "stream",
     "text": [
      "<class 'NoneType'>\n"
     ]
    }
   ],
   "source": [
    "bo = None\n",
    "print(type(bo))"
   ]
  },
  {
   "cell_type": "code",
   "execution_count": 29,
   "id": "66ea8c7b-5ed1-49d1-8c62-0c4e66e1a168",
   "metadata": {},
   "outputs": [
    {
     "name": "stdout",
     "output_type": "stream",
     "text": [
      "10\n"
     ]
    }
   ],
   "source": [
    "f = 10.5\n",
    "i = int(f)\n",
    "print(i)"
   ]
  },
  {
   "cell_type": "code",
   "execution_count": 25,
   "id": "f1419a52-b56b-4b89-9c45-4a7d2294df52",
   "metadata": {},
   "outputs": [
    {
     "name": "stdout",
     "output_type": "stream",
     "text": [
      "266\n"
     ]
    }
   ],
   "source": [
    "s = '10a'\n",
    "i = int(s,base=16)\n",
    "print(i)"
   ]
  },
  {
   "cell_type": "code",
   "execution_count": 26,
   "id": "07c81136-4e47-485b-b347-5411d114ba63",
   "metadata": {},
   "outputs": [
    {
     "data": {
      "text/plain": [
       "97"
      ]
     },
     "execution_count": 26,
     "metadata": {},
     "output_type": "execute_result"
    }
   ],
   "source": [
    "ord('a')"
   ]
  },
  {
   "cell_type": "code",
   "execution_count": 27,
   "id": "2a4d4e26-32eb-448e-a12e-8e0e9e04ccc5",
   "metadata": {},
   "outputs": [
    {
     "data": {
      "text/plain": [
       "'c'"
      ]
     },
     "execution_count": 27,
     "metadata": {},
     "output_type": "execute_result"
    }
   ],
   "source": [
    "chr(99)"
   ]
  },
  {
   "cell_type": "code",
   "execution_count": 33,
   "id": "97722280-cc86-4ac3-90e6-fd59660f8599",
   "metadata": {},
   "outputs": [
    {
     "name": "stdout",
     "output_type": "stream",
     "text": [
      "hello\n",
      "a is equal to b\n",
      "Bye\n"
     ]
    }
   ],
   "source": [
    "a = 20\n",
    "b = 20\n",
    "\n",
    "print(\"hello\")\n",
    "if a < b:\n",
    "    print(\"a is less than b\")\n",
    "    print(a,b)\n",
    "elif a>b:\n",
    "    print(\"a is greater than b\")\n",
    "else:\n",
    "    print(\"a is equal to b\")\n",
    "\n",
    "print(\"Bye\")"
   ]
  },
  {
   "cell_type": "code",
   "execution_count": 34,
   "id": "2eedab9c-e69f-420b-9a7c-b225cd8b5fda",
   "metadata": {},
   "outputs": [
    {
     "name": "stdin",
     "output_type": "stream",
     "text": [
      "Enter the marks: 10\n"
     ]
    },
    {
     "name": "stdout",
     "output_type": "stream",
     "text": [
      "The grade is F\n"
     ]
    }
   ],
   "source": [
    "marks = int(input(\"Enter the marks:\"))\n",
    "if 80 <= marks <= 100:\n",
    "    print(\"The grade is A\")\n",
    "elif 60 <= marks < 80:\n",
    "    print(\"The grade is B\")\n",
    "elif 40 <= marks < 60:\n",
    "    print(\"The grade is C\")\n",
    "elif 0 <= marks < 40:\n",
    "    print(\"The grade is F\")\n",
    "else:\n",
    "    print(\"Invalid\")"
   ]
  },
  {
   "cell_type": "code",
   "execution_count": null,
   "id": "269af212-54c2-482b-a246-acd79fafd8ce",
   "metadata": {},
   "outputs": [],
   "source": [
    "a = 10\n",
    "b = 20\n"
   ]
  },
  {
   "cell_type": "code",
   "execution_count": 43,
   "id": "1ab3dd0b-c48b-4ab7-a05d-e2ea090eb660",
   "metadata": {},
   "outputs": [
    {
     "name": "stdout",
     "output_type": "stream",
     "text": [
      "the value is 21\n"
     ]
    }
   ],
   "source": [
    "i=1\n",
    "sum = 0\n",
    "while i <= 6:\n",
    "    sum = sum+i\n",
    "    i+=1\n",
    "print(\"the value is\", sum)\n"
   ]
  },
  {
   "cell_type": "code",
   "execution_count": 53,
   "id": "68e0e9d9-0053-4dd4-81c9-a26fc52ab7ea",
   "metadata": {},
   "outputs": [
    {
     "name": "stdin",
     "output_type": "stream",
     "text": [
      "Enter the number to find the factor: 15\n"
     ]
    },
    {
     "name": "stdout",
     "output_type": "stream",
     "text": [
      "The factors are: 2\n"
     ]
    }
   ],
   "source": [
    "n= int(input(\"Enter the number to find the factor:\"))\n",
    "i = 1\n",
    "while i <= n:\n",
    "    n %=i\n",
    "    i+=1\n",
    "    if n==0:\n",
    "        print(\"The factors are:\",i)"
   ]
  },
  {
   "cell_type": "code",
   "execution_count": null,
   "id": "f68b5d0a-c3a5-4bd4-9706-cc56def44631",
   "metadata": {},
   "outputs": [],
   "source": []
  },
  {
   "cell_type": "code",
   "execution_count": null,
   "id": "079936d7-1a83-4071-96d5-535ee6014785",
   "metadata": {},
   "outputs": [],
   "source": []
  }
 ],
 "metadata": {
  "kernelspec": {
   "display_name": "Python 3 (ipykernel)",
   "language": "python",
   "name": "python3"
  },
  "language_info": {
   "codemirror_mode": {
    "name": "ipython",
    "version": 3
   },
   "file_extension": ".py",
   "mimetype": "text/x-python",
   "name": "python",
   "nbconvert_exporter": "python",
   "pygments_lexer": "ipython3",
   "version": "3.12.7"
  }
 },
 "nbformat": 4,
 "nbformat_minor": 5
}
