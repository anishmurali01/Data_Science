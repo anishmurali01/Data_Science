{
 "cells": [
  {
   "cell_type": "raw",
   "id": "791d303e-b9d4-4e0e-a52e-6deb52ccf6ac",
   "metadata": {},
   "source": [
    "File Access Modes:\n",
    "\n",
    "r(read only)\n",
    "r+ (read and write)\n",
    "w (write only  overwrite a file with the same name can be done)\n",
    "a (append write the text at the end of the file)\n",
    "a+ (append and read to the read the data from the file as the pointer is in the end we have to first use the seek function and then read the file)\n",
    "x (new File Create overwrite a file with the same name cannot be done and will raise a exception)\n",
    "t (text Mode)\n",
    "b (binary Mode)\n",
    "\n",
    "Read Files\n",
    "read\n",
    "readline\n",
    "readlines\n",
    "\n",
    "Write Files\n",
    "write\n",
    "append\n",
    "\n",
    "With -- Operator\n",
    "\n",
    "Moving the cursor\n",
    "seek(n): takes the file handle to the nth byte from the begining\n",
    "\n",
    "JSON Files (Java Script Object Notation) acts as dictionary in python\n",
    "dump -- write\n",
    "load -- read\n",
    "dumps -- Convert dict in str\n",
    "loads -- Convert str to dict"
   ]
  },
  {
   "cell_type": "code",
   "execution_count": 8,
   "id": "6e193c45-b11e-4933-a503-3be17ec3366d",
   "metadata": {},
   "outputs": [],
   "source": [
    "file = open('test.txt','r')"
   ]
  },
  {
   "cell_type": "code",
   "execution_count": 9,
   "id": "0fb29b86-92ed-4c6f-b8e5-a77392fad308",
   "metadata": {},
   "outputs": [
    {
     "name": "stdout",
     "output_type": "stream",
     "text": [
      "<_io.TextIOWrapper name='test.txt' mode='r' encoding='UTF-8'>\n"
     ]
    }
   ],
   "source": [
    "print(file)"
   ]
  },
  {
   "cell_type": "code",
   "execution_count": 10,
   "id": "0f9d9bcb-7a4e-437c-9572-14e3e98d97f4",
   "metadata": {},
   "outputs": [
    {
     "name": "stdout",
     "output_type": "stream",
     "text": [
      "<class '_io.TextIOWrapper'>\n"
     ]
    }
   ],
   "source": [
    "print(type(file))"
   ]
  },
  {
   "cell_type": "code",
   "execution_count": 17,
   "id": "bcaf2063-9359-44f6-973d-184dfdc741ce",
   "metadata": {},
   "outputs": [
    {
     "data": {
      "text/plain": [
       "'hello world\\n'"
      ]
     },
     "execution_count": 17,
     "metadata": {},
     "output_type": "execute_result"
    }
   ],
   "source": [
    "file.seek(0)\n",
    "file.readline()"
   ]
  },
  {
   "cell_type": "code",
   "execution_count": 18,
   "id": "649893dc-4386-4bd2-9442-aaf9a2774321",
   "metadata": {},
   "outputs": [
    {
     "data": {
      "text/plain": [
       "['how are you\\n', 'i am doin goood']"
      ]
     },
     "execution_count": 18,
     "metadata": {},
     "output_type": "execute_result"
    }
   ],
   "source": [
    "file.readlines()"
   ]
  },
  {
   "cell_type": "code",
   "execution_count": 31,
   "id": "0beee497-3d0d-4601-8480-89acf3bd05ee",
   "metadata": {},
   "outputs": [
    {
     "ename": "ValueError",
     "evalue": "I/O operation on closed file.",
     "output_type": "error",
     "traceback": [
      "\u001b[0;31m---------------------------------------------------------------------------\u001b[0m",
      "\u001b[0;31mValueError\u001b[0m                                Traceback (most recent call last)",
      "Cell \u001b[0;32mIn[31], line 1\u001b[0m\n\u001b[0;32m----> 1\u001b[0m \u001b[43mfile\u001b[49m\u001b[38;5;241;43m.\u001b[39;49m\u001b[43mseek\u001b[49m\u001b[43m(\u001b[49m\u001b[38;5;241;43m0\u001b[39;49m\u001b[43m)\u001b[49m\n\u001b[1;32m      2\u001b[0m s\u001b[38;5;241m=\u001b[39mfile\u001b[38;5;241m.\u001b[39mreadline()\n\u001b[1;32m      3\u001b[0m \u001b[38;5;28;01mwhile\u001b[39;00m s\u001b[38;5;241m!=\u001b[39m\u001b[38;5;124m'\u001b[39m\u001b[38;5;124m'\u001b[39m:\n",
      "\u001b[0;31mValueError\u001b[0m: I/O operation on closed file."
     ]
    }
   ],
   "source": [
    "file.seek(0)\n",
    "s=file.readline()\n",
    "while s!='':\n",
    "    print(s,end='')\n",
    "    s=file.readline()"
   ]
  },
  {
   "cell_type": "code",
   "execution_count": 33,
   "id": "8c6ee3ac-0f70-470a-9580-2bef0c424666",
   "metadata": {},
   "outputs": [],
   "source": [
    "file = open('FileDemo1.txt','w')"
   ]
  },
  {
   "cell_type": "code",
   "execution_count": 34,
   "id": "927fbf6d-1a1d-43f6-a9d4-0e3b8098b36c",
   "metadata": {},
   "outputs": [
    {
     "data": {
      "text/plain": [
       "83"
      ]
     },
     "execution_count": 34,
     "metadata": {},
     "output_type": "execute_result"
    }
   ],
   "source": [
    "file.write(\"\"\"This is statement 1.\n",
    "This is statement 2.\n",
    "This is statement 3.\n",
    "This is statement 4.\"\"\")"
   ]
  },
  {
   "cell_type": "code",
   "execution_count": 35,
   "id": "bc6cd494-a1ac-4226-84f2-8d6e2bd22fb1",
   "metadata": {},
   "outputs": [],
   "source": [
    "file.close()"
   ]
  },
  {
   "cell_type": "code",
   "execution_count": null,
   "id": "74451759-8e87-4ce1-8a8f-c9c54d77e733",
   "metadata": {},
   "outputs": [],
   "source": []
  },
  {
   "cell_type": "code",
   "execution_count": 36,
   "id": "95a3b6da-f197-41d9-8a1c-dad1c7a138fc",
   "metadata": {},
   "outputs": [
    {
     "name": "stdout",
     "output_type": "stream",
     "text": [
      "This is statement 1.\n",
      "This is statement 2.\n",
      "This is statement 3.\n",
      "This is statement 4.\n"
     ]
    }
   ],
   "source": [
    "with open('FileDemo1.txt','r') as file:\n",
    "    print(file.read())"
   ]
  },
  {
   "cell_type": "code",
   "execution_count": null,
   "id": "9ae0f7ad-d45f-4147-948f-06affc2ce2ec",
   "metadata": {},
   "outputs": [],
   "source": []
  },
  {
   "cell_type": "code",
   "execution_count": null,
   "id": "dca90c44-4a1a-4061-b185-7ae5fd9e985c",
   "metadata": {},
   "outputs": [],
   "source": []
  },
  {
   "cell_type": "code",
   "execution_count": null,
   "id": "6a27e2f5-e773-4dc2-b507-025509259c39",
   "metadata": {},
   "outputs": [],
   "source": []
  },
  {
   "cell_type": "code",
   "execution_count": null,
   "id": "49194daa-f681-4498-aa9e-4e4edd4f72c7",
   "metadata": {},
   "outputs": [],
   "source": []
  },
  {
   "cell_type": "code",
   "execution_count": 37,
   "id": "9db658c9-0e10-4906-98d7-4930f2df947e",
   "metadata": {},
   "outputs": [],
   "source": [
    "js={\n",
    "    'India':1000,\n",
    "    'USA':100\n",
    "}"
   ]
  },
  {
   "cell_type": "code",
   "execution_count": 38,
   "id": "865a4c89-db4e-4c82-a7b1-cabcab0250a7",
   "metadata": {},
   "outputs": [],
   "source": [
    "import json"
   ]
  },
  {
   "cell_type": "code",
   "execution_count": 39,
   "id": "ce32a810-7d8b-4ce6-a0eb-a734ac969bfa",
   "metadata": {},
   "outputs": [],
   "source": [
    "with open('Country.json','w')as file:\n",
    "    json.dump(js,file)"
   ]
  },
  {
   "cell_type": "code",
   "execution_count": 44,
   "id": "0801a512-06bd-47fe-90af-56b41c5ccaa8",
   "metadata": {},
   "outputs": [
    {
     "name": "stdout",
     "output_type": "stream",
     "text": [
      "{'India': 1000, 'USA': 100} <class 'dict'>\n"
     ]
    }
   ],
   "source": [
    "with open('Country.json','r') as file:\n",
    "    j=json.load(file)\n",
    "    print(j,type(j))"
   ]
  },
  {
   "cell_type": "code",
   "execution_count": null,
   "id": "acd06e46-2f69-42bf-9d7e-03e82864c885",
   "metadata": {},
   "outputs": [],
   "source": []
  },
  {
   "cell_type": "code",
   "execution_count": 45,
   "id": "dbbfd631-60ca-4afb-bd7f-7f0f28c636b7",
   "metadata": {},
   "outputs": [
    {
     "data": {
      "text/plain": [
       "'{\"India\": 1000, \"USA\": 100}'"
      ]
     },
     "execution_count": 45,
     "metadata": {},
     "output_type": "execute_result"
    }
   ],
   "source": [
    "json.dumps(js)"
   ]
  },
  {
   "cell_type": "code",
   "execution_count": 46,
   "id": "032258f9-7ad2-4b31-964e-e1afa6e8066d",
   "metadata": {},
   "outputs": [],
   "source": [
    "s=json.dumps(js)"
   ]
  },
  {
   "cell_type": "code",
   "execution_count": 47,
   "id": "0662df15-b118-43d6-ad51-d2ae5de07755",
   "metadata": {},
   "outputs": [
    {
     "data": {
      "text/plain": [
       "{'India': 1000, 'USA': 100}"
      ]
     },
     "execution_count": 47,
     "metadata": {},
     "output_type": "execute_result"
    }
   ],
   "source": [
    "json.loads(s)"
   ]
  },
  {
   "cell_type": "code",
   "execution_count": null,
   "id": "095e6f53-77b4-493b-8fef-254a86aa4201",
   "metadata": {},
   "outputs": [],
   "source": []
  },
  {
   "cell_type": "code",
   "execution_count": null,
   "id": "c9758535-9050-47e4-8b96-da5e2d87552e",
   "metadata": {},
   "outputs": [],
   "source": [
    "take a list [\"s1\",\"s2\",\"s3\",\"s4\"] write it in the file and then print a list with values [\"s10\",\"s20\",\"s30\",\"s40\"]"
   ]
  },
  {
   "cell_type": "code",
   "execution_count": null,
   "id": "8c50206d-7ea4-40e6-b12e-0ffcba0479d4",
   "metadata": {},
   "outputs": [],
   "source": []
  },
  {
   "cell_type": "code",
   "execution_count": 48,
   "id": "bfe388cb-9069-41df-97a0-09aefa5113dd",
   "metadata": {},
   "outputs": [
    {
     "name": "stdout",
     "output_type": "stream",
     "text": [
      "['s10', 's20', 's30', 's40']\n"
     ]
    }
   ],
   "source": [
    "data = [\"s1\", \"s2\", \"s3\", \"s4\"]\n",
    "\n",
    "with open(\"data.txt\", \"w\") as file:\n",
    "    for item in data:\n",
    "        file.write(item + \"\\n\")\n",
    "\n",
    "with open(\"data.txt\", \"r\") as file:\n",
    "    read_data = [line.strip() for line in file]\n",
    "\n",
    "new_data = [item + \"0\" for item in read_data]\n",
    "\n",
    "print(new_data)"
   ]
  },
  {
   "cell_type": "code",
   "execution_count": null,
   "id": "7769160c-c1c1-4c21-86cd-71a2e5082ec5",
   "metadata": {},
   "outputs": [],
   "source": []
  }
 ],
 "metadata": {
  "kernelspec": {
   "display_name": "Python 3 (ipykernel)",
   "language": "python",
   "name": "python3"
  },
  "language_info": {
   "codemirror_mode": {
    "name": "ipython",
    "version": 3
   },
   "file_extension": ".py",
   "mimetype": "text/x-python",
   "name": "python",
   "nbconvert_exporter": "python",
   "pygments_lexer": "ipython3",
   "version": "3.12.7"
  }
 },
 "nbformat": 4,
 "nbformat_minor": 5
}
