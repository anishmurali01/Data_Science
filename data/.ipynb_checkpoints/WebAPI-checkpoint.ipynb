{
 "cells": [
  {
   "cell_type": "markdown",
   "id": "83cef45f-a921-4c69-bfd9-cff833885cf1",
   "metadata": {},
   "source": [
    "Kaggle"
   ]
  },
  {
   "cell_type": "markdown",
   "id": "8859853f-c480-4255-b289-45710039b263",
   "metadata": {},
   "source": [
    "## Data Acquisition - Web API'S\n",
    "    Application programming interface - Set of routines running over Web Servers\n",
    "    connects Application & databases\n",
    "    Specify data with URL\n",
    "    Retrieve data & parse it\n",
    "    API may return data in JSON,XML data formats"
   ]
  },
  {
   "cell_type": "markdown",
   "id": "9b2b4395-f008-40f8-bd8f-7f2d13ea2770",
   "metadata": {},
   "source": [
    "## JSON\n",
    "    javascript object notation\n",
    "    Dictionary Like Data-Structure: key value pairs\n",
    "    keys are string, values can be anything\n",
    "    Easy to reaad and write"
   ]
  },
  {
   "cell_type": "markdown",
   "id": "401c8777-fe4d-4a0e-b8d3-8160b71aec5b",
   "metadata": {},
   "source": [
    "## Type of Requests\n",
    "    GET\n",
    "    POST\n",
    "    DELETE\n",
    "    PUT\n",
    "    PATCH"
   ]
  },
  {
   "cell_type": "markdown",
   "id": "a60e6f83-d7ac-4b94-9999-11f0d6b10961",
   "metadata": {},
   "source": [
    "## Requests Library\n",
    "    Most popular Python Library"
   ]
  },
  {
   "cell_type": "markdown",
   "id": "a9bb1933-2aa5-434a-a87a-1543fb4d5bab",
   "metadata": {},
   "source": [
    "## Installation\n",
    "    pip install requests"
   ]
  },
  {
   "cell_type": "code",
   "execution_count": null,
   "id": "5f81bd10-d721-4099-9772-5a7c23d45828",
   "metadata": {},
   "outputs": [],
   "source": []
  },
  {
   "cell_type": "code",
   "execution_count": null,
   "id": "4ad46230-313f-4c78-95c7-c1ef3d4378f0",
   "metadata": {},
   "outputs": [],
   "source": []
  },
  {
   "cell_type": "code",
   "execution_count": 2,
   "id": "345e3a89-ad78-4619-ab86-2a0603bd614f",
   "metadata": {},
   "outputs": [],
   "source": [
    "import requests"
   ]
  },
  {
   "cell_type": "code",
   "execution_count": 31,
   "id": "bafbb40c-9e2d-442b-b494-90395408b81d",
   "metadata": {},
   "outputs": [],
   "source": [
    "url = 'https://catfact.ninja/'\n",
    "# res = requests.get(url+'fact')\n",
    "res = requests.get('https://catfact.ninja/fact?max_length=50')\n",
    "# res = requests.get(url+'fact',params={'max_length':50})\n",
    "# res = requests.get(url)"
   ]
  },
  {
   "cell_type": "code",
   "execution_count": 32,
   "id": "4027708c-7418-462a-8763-b3349a5ba688",
   "metadata": {},
   "outputs": [
    {
     "data": {
      "text/plain": [
       "<Response [200]>"
      ]
     },
     "execution_count": 32,
     "metadata": {},
     "output_type": "execute_result"
    }
   ],
   "source": [
    "res"
   ]
  },
  {
   "cell_type": "code",
   "execution_count": 33,
   "id": "c254ccdf-8170-4ac9-b3e9-bd6a7c498fd2",
   "metadata": {},
   "outputs": [
    {
     "name": "stdout",
     "output_type": "stream",
     "text": [
      "{\"fact\":\"Female cats are polyestrous\",\"length\":28} <class 'str'>\n"
     ]
    }
   ],
   "source": [
    "print(res.text,type(res.text))"
   ]
  },
  {
   "cell_type": "code",
   "execution_count": 34,
   "id": "a3cd3beb-0e0e-4550-83fa-739f40f7b452",
   "metadata": {},
   "outputs": [],
   "source": [
    "import json"
   ]
  },
  {
   "cell_type": "code",
   "execution_count": 35,
   "id": "f3ade497-2a8a-4d90-aeb2-e264026509b5",
   "metadata": {},
   "outputs": [
    {
     "name": "stdout",
     "output_type": "stream",
     "text": [
      "{'fact': 'Female cats are polyestrous', 'length': 28} <class 'dict'>\n"
     ]
    }
   ],
   "source": [
    "print(json.loads(res.text),type(json.loads(res.text)))"
   ]
  },
  {
   "cell_type": "code",
   "execution_count": 37,
   "id": "ea05ac83-ceb2-4efc-93b8-9299e931f786",
   "metadata": {},
   "outputs": [],
   "source": [
    "fact = res.json()"
   ]
  },
  {
   "cell_type": "code",
   "execution_count": 38,
   "id": "64510b6b-c114-46c6-a6a8-bdaa2837f4f7",
   "metadata": {},
   "outputs": [
    {
     "data": {
      "text/plain": [
       "('Female cats are polyestrous', 27)"
      ]
     },
     "execution_count": 38,
     "metadata": {},
     "output_type": "execute_result"
    }
   ],
   "source": [
    "fact['fact'],len(fact['fact'])"
   ]
  },
  {
   "cell_type": "code",
   "execution_count": null,
   "id": "f870fdb0-80c9-4514-9a46-b5d2df0f7369",
   "metadata": {},
   "outputs": [],
   "source": []
  }
 ],
 "metadata": {
  "kernelspec": {
   "display_name": "Python 3 (ipykernel)",
   "language": "python",
   "name": "python3"
  },
  "language_info": {
   "codemirror_mode": {
    "name": "ipython",
    "version": 3
   },
   "file_extension": ".py",
   "mimetype": "text/x-python",
   "name": "python",
   "nbconvert_exporter": "python",
   "pygments_lexer": "ipython3",
   "version": "3.12.7"
  }
 },
 "nbformat": 4,
 "nbformat_minor": 5
}
