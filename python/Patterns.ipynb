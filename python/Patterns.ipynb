{
 "cells": [
  {
   "cell_type": "code",
   "execution_count": 1,
   "id": "ab855bbe-b513-4891-9c8e-567121039d80",
   "metadata": {},
   "outputs": [
    {
     "name": "stdout",
     "output_type": "stream",
     "text": [
      "        *   \n",
      "      *   *   \n",
      "    *   *   *   \n",
      "  *   *   *   *   \n",
      "*   *   *   *   *   \n"
     ]
    }
   ],
   "source": [
    "def print_pyramid(n):\n",
    "    for i in range(n):\n",
    "        for j in range(n - i - 1):\n",
    "            print(\" \", end=\" \")\n",
    "        for j in range(i + 1):\n",
    "            print(\"*\", end=\"   \")\n",
    "        print()\n",
    "\n",
    "n = 5\n",
    "print_pyramid(n)"
   ]
  },
  {
   "cell_type": "code",
   "execution_count": 2,
   "id": "25ae4fcc-11c1-4973-98be-6c6cc1df00f1",
   "metadata": {},
   "outputs": [
    {
     "name": "stdout",
     "output_type": "stream",
     "text": [
      "    *\n",
      "   **\n",
      "  ***\n",
      " ****\n",
      "*****\n"
     ]
    }
   ],
   "source": [
    "N = 5\n",
    "row = 1\n",
    "nsp = N-1\n",
    "nst = 1\n",
    "\n",
    "while row <= N:\n",
    "    csp = 1\n",
    "    while csp <= nsp:\n",
    "        print(\" \",end = \"\")\n",
    "        csp += 1\n",
    "\n",
    "    cst = 1\n",
    "    while cst <= nst:\n",
    "        print('*',end = '')\n",
    "        cst += 1\n",
    "    nsp -= 1\n",
    "    nst += 1\n",
    "    print()\n",
    "    row += 1"
   ]
  },
  {
   "cell_type": "code",
   "execution_count": 31,
   "id": "34580696-f354-45b9-8866-921d605daab6",
   "metadata": {},
   "outputs": [
    {
     "name": "stdout",
     "output_type": "stream",
     "text": [
      "        * \n",
      "      * * * \n",
      "    * * * * * \n",
      "  * * * * * * * \n",
      "* * * * * * * * * \n"
     ]
    }
   ],
   "source": [
    "N = 5\n",
    "row = 1\n",
    "nsp = N-1\n",
    "nst = 1\n",
    "\n",
    "while row <= N:\n",
    "    csp = 1\n",
    "    while csp <= nsp:\n",
    "        print(\" \",end = \" \")\n",
    "        csp += 1\n",
    "\n",
    "    cst = 1\n",
    "    while cst <= nst:\n",
    "        print('*',end = ' ')\n",
    "        cst += 1\n",
    "    nsp -= 1\n",
    "    nst += 2\n",
    "    print()\n",
    "    row += 1"
   ]
  },
  {
   "cell_type": "code",
   "execution_count": 9,
   "id": "18bc6802-bee0-4e9c-89d8-cd4f4facc449",
   "metadata": {},
   "outputs": [
    {
     "name": "stdout",
     "output_type": "stream",
     "text": [
      "* * * * * * * * * \n",
      "  * * * * * * * \n",
      "    * * * * * \n",
      "      * * * \n",
      "        * \n"
     ]
    }
   ],
   "source": [
    "N = 5\n",
    "row = 1\n",
    "nsp = 0\n",
    "nst = 2*N-1\n",
    "\n",
    "while row <= N:\n",
    "    csp = 1\n",
    "    while csp <= nsp:\n",
    "        print(\" \",end = \" \")\n",
    "        csp += 1\n",
    "\n",
    "    cst = 1\n",
    "    while cst <= nst:\n",
    "        print('*',end = ' ')\n",
    "        cst += 1\n",
    "    nsp += 1\n",
    "    nst -= 2\n",
    "    print()\n",
    "    row += 1"
   ]
  },
  {
   "cell_type": "code",
   "execution_count": 10,
   "id": "ad835c18-cc63-4af9-b801-74e33f57cb66",
   "metadata": {},
   "outputs": [
    {
     "name": "stdout",
     "output_type": "stream",
     "text": [
      "        * \n",
      "      *   * \n",
      "    *   *   * \n",
      "  *   *   *   * \n",
      "*   *   *   *   * \n"
     ]
    }
   ],
   "source": [
    "N = 5\n",
    "row = 1\n",
    "nsp = N-1\n",
    "nst = 1\n",
    "\n",
    "while row <= N:\n",
    "    csp = 1\n",
    "    while csp <= nsp:\n",
    "        print(\" \",end = \" \")\n",
    "        csp += 1\n",
    "\n",
    "    cst = 1\n",
    "    while cst <= nst:\n",
    "        if cst%2 != 0:\n",
    "            print('*',end=' ')\n",
    "        else:\n",
    "            print(\" \",end=' ')\n",
    "        cst += 1\n",
    "    nsp -= 1\n",
    "    nst += 2\n",
    "    print()\n",
    "    row += 1"
   ]
  },
  {
   "cell_type": "code",
   "execution_count": 11,
   "id": "ed745ea7-f6d5-49f1-b839-1949f6d11e86",
   "metadata": {},
   "outputs": [
    {
     "name": "stdout",
     "output_type": "stream",
     "text": [
      "        * \n",
      "      * ! * \n",
      "    * ! * ! * \n",
      "  * ! * ! * ! * \n",
      "* ! * ! * ! * ! * \n"
     ]
    }
   ],
   "source": [
    "N = 5\n",
    "row = 1\n",
    "nsp = N-1\n",
    "nst = 1\n",
    "\n",
    "while row <= N:\n",
    "    csp = 1\n",
    "    while csp <= nsp:\n",
    "        print(\" \",end = \" \")\n",
    "        csp += 1\n",
    "\n",
    "    cst = 1\n",
    "    while cst <= nst:\n",
    "        if cst%2 != 0:\n",
    "            print('*',end=' ')\n",
    "        else:\n",
    "            print(\"!\",end=' ')\n",
    "        cst += 1\n",
    "    nsp -= 1\n",
    "    nst += 2\n",
    "    print()\n",
    "    row += 1"
   ]
  },
  {
   "cell_type": "code",
   "execution_count": 13,
   "id": "74c31d7f-3002-4a41-9158-8b0b0ebd917c",
   "metadata": {},
   "outputs": [
    {
     "name": "stdout",
     "output_type": "stream",
     "text": [
      "* * * * * \n",
      "*       * \n",
      "*       * \n",
      "*       * \n",
      "* * * * * \n"
     ]
    }
   ],
   "source": [
    "N = 5\n",
    "nst = N\n",
    "row = 1\n",
    "while row <= N:\n",
    "    cst = 1\n",
    "    while cst <= nst:\n",
    "        if row==1 or row==N or cst==1 or cst==N:\n",
    "            print('*',end = ' ')\n",
    "        else:\n",
    "            print(' ',end=' ')\n",
    "        cst += 1\n",
    "\n",
    "    print()\n",
    "    row += 1"
   ]
  },
  {
   "cell_type": "code",
   "execution_count": 14,
   "id": "2aaf2f83-bc26-4456-a64f-4cc344f380f2",
   "metadata": {},
   "outputs": [
    {
     "name": "stdout",
     "output_type": "stream",
     "text": [
      "*       * \n",
      "  *   *   \n",
      "    *     \n",
      "  *   *   \n",
      "*       * \n"
     ]
    }
   ],
   "source": [
    "N = 5\n",
    "nst = N\n",
    "row = 1\n",
    "while row <= N:\n",
    "    cst = 1\n",
    "    while cst <= nst:\n",
    "        if cst+row==N+1 or row==cst:\n",
    "            print('*',end = ' ')\n",
    "        else:\n",
    "            print(' ',end=' ')\n",
    "        cst += 1\n",
    "    print()\n",
    "    row += 1"
   ]
  },
  {
   "cell_type": "code",
   "execution_count": 21,
   "id": "6bf58ea4-001e-49aa-8bed-0a451f358986",
   "metadata": {},
   "outputs": [
    {
     "name": "stdout",
     "output_type": "stream",
     "text": [
      "*  \n",
      "* *  \n",
      "* * *  \n",
      "* * * *  \n",
      "* * * * *  \n",
      "* * * *  \n",
      "* * *  \n",
      "* *  \n",
      "*  \n"
     ]
    }
   ],
   "source": [
    "N = 5\n",
    "row = 1\n",
    "nst = 1\n",
    "while row <= 2*N-1:\n",
    "    cst = 1\n",
    "    while cst <= nst:\n",
    "        print('*',end = \" \")\n",
    "        cst+=1\n",
    "\n",
    "    if row < N:\n",
    "        nst += 1\n",
    "    else:\n",
    "        nst -= 1\n",
    "    print(' ')\n",
    "    row += 1"
   ]
  },
  {
   "cell_type": "code",
   "execution_count": 22,
   "id": "3b0aa048-ca9d-483a-a4a4-d10ebfd56445",
   "metadata": {},
   "outputs": [
    {
     "name": "stdout",
     "output_type": "stream",
     "text": [
      "        * \n",
      "      * * \n",
      "    * * * \n",
      "  * * * * \n",
      "* * * * * \n",
      "  * * * * \n",
      "    * * * \n",
      "      * * \n",
      "        * \n"
     ]
    }
   ],
   "source": [
    "N = 5\n",
    "row = 1\n",
    "nst = 1\n",
    "nsp = N-1\n",
    "\n",
    "while row <= 2*N-1:\n",
    "    csp = 1\n",
    "    while csp <= nsp:\n",
    "        print(\" \",end=\" \")\n",
    "        csp += 1\n",
    "    \n",
    "    cst = 1\n",
    "    while cst <= nst:\n",
    "        print(\"*\",end = \" \")\n",
    "        cst += 1\n",
    "\n",
    "    if row < N:\n",
    "        nst += 1\n",
    "        nsp -= 1\n",
    "    else:\n",
    "        nst -= 1\n",
    "        nsp += 1\n",
    "    print()\n",
    "    row += 1"
   ]
  },
  {
   "cell_type": "code",
   "execution_count": 24,
   "id": "f2e1b3f7-4719-4369-8f6d-44ec6c690269",
   "metadata": {},
   "outputs": [
    {
     "name": "stdout",
     "output_type": "stream",
     "text": [
      "* * * * * \n",
      "    * * * * \n",
      "        * * * \n",
      "            * * \n",
      "                * \n",
      "            * * \n",
      "        * * * \n",
      "    * * * * \n",
      "* * * * * \n"
     ]
    }
   ],
   "source": [
    "N = 5\n",
    "row = 1\n",
    "nst = N\n",
    "nsp = 0\n",
    "\n",
    "while row <= 2*N-1:\n",
    "    csp = 1\n",
    "    while csp <= nsp:\n",
    "        print(\" \",end=\" \")\n",
    "        csp += 1\n",
    "    \n",
    "    cst = 1\n",
    "    while cst <= nst:\n",
    "        print(\"*\",end = \" \")\n",
    "        cst += 1\n",
    "\n",
    "    if row < N:\n",
    "        nst -= 1\n",
    "        nsp += 2\n",
    "    else:\n",
    "        nst += 1\n",
    "        nsp -= 2\n",
    "    print()\n",
    "    row += 1"
   ]
  },
  {
   "cell_type": "code",
   "execution_count": 29,
   "id": "1165549a-8768-41b0-b465-8fe0a2edb75f",
   "metadata": {},
   "outputs": [
    {
     "name": "stdout",
     "output_type": "stream",
     "text": [
      "        * * * * * \n",
      "      * * * * \n",
      "    * * * \n",
      "  * * \n",
      "* \n",
      "  * * \n",
      "    * * * \n",
      "      * * * * \n",
      "        * * * * * \n"
     ]
    }
   ],
   "source": [
    "N = 5\n",
    "row = 1\n",
    "nst = N\n",
    "nsp = N-1\n",
    "\n",
    "while row <= 2*N-1:\n",
    "    csp = 1\n",
    "    while csp <= nsp:\n",
    "        print(\" \",end=\" \")\n",
    "        csp += 1\n",
    "    \n",
    "    cst = 1\n",
    "    while cst <= nst:\n",
    "        print(\"*\",end = \" \")\n",
    "        cst += 1\n",
    "\n",
    "    if row < N:\n",
    "        nst -= 1\n",
    "        nsp -= 1\n",
    "    else:\n",
    "        nst += 1\n",
    "        nsp += 1\n",
    "    print()\n",
    "    row += 1"
   ]
  },
  {
   "cell_type": "code",
   "execution_count": 38,
   "id": "4627b174-b000-4123-abea-9ff261f85eee",
   "metadata": {},
   "outputs": [
    {
     "name": "stdout",
     "output_type": "stream",
     "text": [
      "    * \n",
      "  * * * \n",
      "    * \n",
      "      \n",
      "        \n"
     ]
    }
   ],
   "source": [
    "N = 5\n",
    "row = 1\n",
    "nst = 1\n",
    "nsp = N//2\n",
    "while row <= N:\n",
    "    csp = 1\n",
    "    while csp <= nsp:\n",
    "        print(\" \",end=\" \")\n",
    "        csp += 1\n",
    "    \n",
    "    cst = 1\n",
    "    while cst <= nst:\n",
    "        print(\"*\",end = \" \")\n",
    "        cst += 1\n",
    "\n",
    "    if row < N//2:\n",
    "        nst += 2\n",
    "        nsp -= 1\n",
    "    else:\n",
    "        nst -= 2\n",
    "        nsp += 1\n",
    "    print()\n",
    "    row += 1"
   ]
  },
  {
   "cell_type": "code",
   "execution_count": null,
   "id": "d61b6644-86ab-4936-aa2c-1bd98693dcf4",
   "metadata": {},
   "outputs": [],
   "source": []
  }
 ],
 "metadata": {
  "kernelspec": {
   "display_name": "Python 3 (ipykernel)",
   "language": "python",
   "name": "python3"
  },
  "language_info": {
   "codemirror_mode": {
    "name": "ipython",
    "version": 3
   },
   "file_extension": ".py",
   "mimetype": "text/x-python",
   "name": "python",
   "nbconvert_exporter": "python",
   "pygments_lexer": "ipython3",
   "version": "3.12.7"
  }
 },
 "nbformat": 4,
 "nbformat_minor": 5
}
