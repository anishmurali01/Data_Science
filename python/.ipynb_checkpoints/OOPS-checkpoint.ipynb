{
 "cells": [
  {
   "cell_type": "code",
   "execution_count": 1,
   "id": "a8156474-12c2-404b-b1d7-613bedc3b446",
   "metadata": {},
   "outputs": [],
   "source": [
    "class Person:\n",
    "    def sayHello(self):\n",
    "        print(\"Person says Hello\")"
   ]
  },
  {
   "cell_type": "code",
   "execution_count": 2,
   "id": "0a6e7257-0199-4914-9132-8e31158b0130",
   "metadata": {},
   "outputs": [
    {
     "name": "stdout",
     "output_type": "stream",
     "text": [
      "Person says Hello\n"
     ]
    }
   ],
   "source": [
    "Person.sayHello()"
   ]
  },
  {
   "cell_type": "code",
   "execution_count": null,
   "id": "97462da3-5627-4b85-a2d1-a236a9b85202",
   "metadata": {},
   "outputs": [],
   "source": []
  }
 ],
 "metadata": {
  "kernelspec": {
   "display_name": "Python 3 (ipykernel)",
   "language": "python",
   "name": "python3"
  },
  "language_info": {
   "codemirror_mode": {
    "name": "ipython",
    "version": 3
   },
   "file_extension": ".py",
   "mimetype": "text/x-python",
   "name": "python",
   "nbconvert_exporter": "python",
   "pygments_lexer": "ipython3",
   "version": "3.12.7"
  }
 },
 "nbformat": 4,
 "nbformat_minor": 5
}
