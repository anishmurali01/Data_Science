{
 "cells": [
  {
   "cell_type": "code",
   "execution_count": 1,
   "id": "81c50502-b696-4a41-8fcf-738c127dbc0f",
   "metadata": {},
   "outputs": [],
   "source": [
    "import requests\n",
    "import bs4"
   ]
  },
  {
   "cell_type": "code",
   "execution_count": 2,
   "id": "632d35d3-a998-41ce-9eff-76727b2a279d",
   "metadata": {},
   "outputs": [
    {
     "name": "stdout",
     "output_type": "stream",
     "text": [
      "4.13.3\n"
     ]
    }
   ],
   "source": [
    "print(bs4.__version__)"
   ]
  },
  {
   "cell_type": "code",
   "execution_count": 3,
   "id": "62c18c79-9bca-41b7-ae27-54057a927093",
   "metadata": {},
   "outputs": [],
   "source": [
    "simple_html_obj = \"\"\"\n",
    "<html>\n",
    "    <head></head>\n",
    "    <body>\n",
    "        <div id = \"div1\">\n",
    "            <p id = 1>Hello</p>\n",
    "            <p id = 2>World</p>\n",
    "            <p id = 3 shub = cb>hello</p>\n",
    "        <div id = \"div2\">\n",
    "            <p id = 4 shub = cb>world</p>\n",
    "            <p id = 4>hello</p>\n",
    "        </div>\n",
    "    </body>\n",
    "</html>\n",
    "\"\"\""
   ]
  },
  {
   "cell_type": "code",
   "execution_count": 4,
   "id": "919b8af8-13b0-45e4-b74b-1a56e8c355b7",
   "metadata": {},
   "outputs": [],
   "source": [
    "soup = bs4.BeautifulSoup(simple_html_obj)"
   ]
  },
  {
   "cell_type": "code",
   "execution_count": 5,
   "id": "dc0430ac-7821-40ce-860a-fbe3c69541b7",
   "metadata": {},
   "outputs": [
    {
     "name": "stdout",
     "output_type": "stream",
     "text": [
      "<html>\n",
      " <head>\n",
      " </head>\n",
      " <body>\n",
      "  <div id=\"div1\">\n",
      "   <p id=\"1\">\n",
      "    Hello\n",
      "   </p>\n",
      "   <p id=\"2\">\n",
      "    World\n",
      "   </p>\n",
      "   <p id=\"3\" shub=\"cb\">\n",
      "    hello\n",
      "   </p>\n",
      "   <div id=\"div2\">\n",
      "    <p id=\"4\" shub=\"cb\">\n",
      "     world\n",
      "    </p>\n",
      "    <p id=\"4\">\n",
      "     hello\n",
      "    </p>\n",
      "   </div>\n",
      "  </div>\n",
      " </body>\n",
      "</html>\n",
      "\n"
     ]
    }
   ],
   "source": [
    "print(soup.prettify())"
   ]
  },
  {
   "cell_type": "code",
   "execution_count": null,
   "id": "462c8065-79d8-4c29-91ae-90fab9dc2bae",
   "metadata": {},
   "outputs": [],
   "source": []
  }
 ],
 "metadata": {
  "kernelspec": {
   "display_name": "Python 3 (ipykernel)",
   "language": "python",
   "name": "python3"
  },
  "language_info": {
   "codemirror_mode": {
    "name": "ipython",
    "version": 3
   },
   "file_extension": ".py",
   "mimetype": "text/x-python",
   "name": "python",
   "nbconvert_exporter": "python",
   "pygments_lexer": "ipython3",
   "version": "3.12.7"
  }
 },
 "nbformat": 4,
 "nbformat_minor": 5
}
