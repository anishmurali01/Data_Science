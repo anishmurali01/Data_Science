{
 "cells": [
  {
   "cell_type": "code",
   "execution_count": 6,
   "id": "a8156474-12c2-404b-b1d7-613bedc3b446",
   "metadata": {},
   "outputs": [],
   "source": [
    "class Person:\n",
    "    def __init__(self, name='xyz',age=0):\n",
    "        self.name=name\n",
    "        self.age=age\n",
    "    def sayHello(self):\n",
    "        print(\"Person says Hello\")\n",
    "    def sayHello(self,oth):\n",
    "        print(f\"{self.name} says hello to {oth}\")"
   ]
  },
  {
   "cell_type": "code",
   "execution_count": 3,
   "id": "0a6e7257-0199-4914-9132-8e31158b0130",
   "metadata": {},
   "outputs": [
    {
     "name": "stdout",
     "output_type": "stream",
     "text": [
      "Person says Hello\n"
     ]
    }
   ],
   "source": [
    "Person.sayHello()"
   ]
  },
  {
   "cell_type": "code",
   "execution_count": null,
   "id": "97462da3-5627-4b85-a2d1-a236a9b85202",
   "metadata": {},
   "outputs": [],
   "source": []
  },
  {
   "cell_type": "code",
   "execution_count": 5,
   "id": "07474cd1-8b5f-423e-9c9a-976fa21be5cb",
   "metadata": {},
   "outputs": [
    {
     "name": "stdout",
     "output_type": "stream",
     "text": [
      "<__main__.Person object at 0x1036488f0>\n"
     ]
    }
   ],
   "source": [
    "p1=Person()\n",
    "print(p1)"
   ]
  },
  {
   "cell_type": "code",
   "execution_count": null,
   "id": "68964228-c0a0-485c-9a8b-acfb299920f3",
   "metadata": {},
   "outputs": [],
   "source": []
  },
  {
   "cell_type": "code",
   "execution_count": null,
   "id": "c8a8a899-9b69-4cf6-b814-5b62b76b8992",
   "metadata": {},
   "outputs": [],
   "source": []
  },
  {
   "cell_type": "code",
   "execution_count": 7,
   "id": "e358db5d-cb10-4a94-b185-7f6cd0cdf35c",
   "metadata": {},
   "outputs": [],
   "source": [
    "class Dog:\n",
    "    legs=4\n",
    "    tail=1\n",
    "    tricks=[]\n",
    "\n",
    "    def __init__(self,name,breed):\n",
    "        self.name=name\n",
    "        self.breed=breed\n",
    "\n",
    "\n",
    "    def bark(self,sound=\"bhow\"):\n",
    "        self.sound=sound\n",
    "        print(f\"{self.name} : {sound} {sound}\")"
   ]
  },
  {
   "cell_type": "code",
   "execution_count": 9,
   "id": "8f2aae76-e96e-403d-b773-4e063dd679f1",
   "metadata": {},
   "outputs": [],
   "source": [
    "d1=Dog(\"Brandy\",\"Shitzu\")\n",
    "d2=Dog(\"Jackie\",\"German Shepherd\")\n"
   ]
  },
  {
   "cell_type": "code",
   "execution_count": 10,
   "id": "5c655913-4331-4e94-97e4-015be4373369",
   "metadata": {},
   "outputs": [
    {
     "name": "stdout",
     "output_type": "stream",
     "text": [
      "Brandy : bhowbhow\n"
     ]
    }
   ],
   "source": [
    "d1.bark()"
   ]
  },
  {
   "cell_type": "code",
   "execution_count": null,
   "id": "fe4c23da-78f3-412f-9d20-2b922d3c771b",
   "metadata": {},
   "outputs": [],
   "source": []
  },
  {
   "cell_type": "code",
   "execution_count": 11,
   "id": "141dcb86-f429-486b-b704-0f44aa0a9fd7",
   "metadata": {},
   "outputs": [
    {
     "name": "stdout",
     "output_type": "stream",
     "text": [
      "Jackie : bhowbhow\n"
     ]
    }
   ],
   "source": [
    "d2.bark()"
   ]
  },
  {
   "cell_type": "code",
   "execution_count": 12,
   "id": "ce665524-d5a4-485e-a9ab-1816ff93d17f",
   "metadata": {},
   "outputs": [],
   "source": [
    "d1.tricks.append('Sit')\n",
    "d1.tricks.append('Stand')"
   ]
  },
  {
   "cell_type": "code",
   "execution_count": 13,
   "id": "508a10fa-294d-4d31-a45b-8b216829f90b",
   "metadata": {},
   "outputs": [
    {
     "data": {
      "text/plain": [
       "['Sit', 'Stand']"
      ]
     },
     "execution_count": 13,
     "metadata": {},
     "output_type": "execute_result"
    }
   ],
   "source": [
    "d1.tricks"
   ]
  },
  {
   "cell_type": "code",
   "execution_count": 14,
   "id": "f0d412da-2b2c-49a3-a872-665c10c6e6fb",
   "metadata": {},
   "outputs": [
    {
     "data": {
      "text/plain": [
       "['Sit', 'Stand']"
      ]
     },
     "execution_count": 14,
     "metadata": {},
     "output_type": "execute_result"
    }
   ],
   "source": [
    "d2.tricks"
   ]
  },
  {
   "cell_type": "code",
   "execution_count": 15,
   "id": "058406c6-015c-4374-b6d7-75db21d1632d",
   "metadata": {},
   "outputs": [],
   "source": [
    "d1.tail=6"
   ]
  },
  {
   "cell_type": "code",
   "execution_count": 16,
   "id": "079424f8-809f-4abe-8032-be1b4157f640",
   "metadata": {},
   "outputs": [
    {
     "data": {
      "text/plain": [
       "1"
      ]
     },
     "execution_count": 16,
     "metadata": {},
     "output_type": "execute_result"
    }
   ],
   "source": [
    "d2.tail"
   ]
  },
  {
   "cell_type": "code",
   "execution_count": 18,
   "id": "0552858f-9eee-44cb-ad89-972623c8ff5b",
   "metadata": {},
   "outputs": [
    {
     "data": {
      "text/plain": [
       "['Sit', 'Stand']"
      ]
     },
     "execution_count": 18,
     "metadata": {},
     "output_type": "execute_result"
    }
   ],
   "source": [
    "Dog.tricks"
   ]
  },
  {
   "cell_type": "code",
   "execution_count": null,
   "id": "45f83eaf-3602-4b68-bb48-a9d80ea6679c",
   "metadata": {},
   "outputs": [],
   "source": []
  }
 ],
 "metadata": {
  "kernelspec": {
   "display_name": "Python 3 (ipykernel)",
   "language": "python",
   "name": "python3"
  },
  "language_info": {
   "codemirror_mode": {
    "name": "ipython",
    "version": 3
   },
   "file_extension": ".py",
   "mimetype": "text/x-python",
   "name": "python",
   "nbconvert_exporter": "python",
   "pygments_lexer": "ipython3",
   "version": "3.12.7"
  }
 },
 "nbformat": 4,
 "nbformat_minor": 5
}
