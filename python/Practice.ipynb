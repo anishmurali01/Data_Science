{
 "cells": [
  {
   "cell_type": "code",
   "execution_count": 1,
   "id": "2da53523-bad1-4de5-9e79-43828f8fe065",
   "metadata": {},
   "outputs": [
    {
     "name": "stdin",
     "output_type": "stream",
     "text": [
      "Enter operation (+, -, *, /, %) or 'X' to exit:  +\n",
      "Enter first number:  10\n",
      "Enter second number:  20\n"
     ]
    },
    {
     "name": "stdout",
     "output_type": "stream",
     "text": [
      "Result: 30.0\n"
     ]
    },
    {
     "name": "stdin",
     "output_type": "stream",
     "text": [
      "Enter operation (+, -, *, /, %) or 'X' to exit:  X\n"
     ]
    },
    {
     "name": "stdout",
     "output_type": "stream",
     "text": [
      "Exiting program.\n"
     ]
    }
   ],
   "source": [
    "while True:\n",
    "    ch = input(\"Enter operation (+, -, *, /, %) or 'X' to exit: \")\n",
    "\n",
    "    if ch == 'X' or ch == 'x':\n",
    "        print(\"Exiting program.\")\n",
    "        break\n",
    "    elif ch == '+' or ch == '-' or ch == '*' or ch == '/' or ch == '%':\n",
    "        N1 = input(\"Enter first number: \")\n",
    "        N2 = input(\"Enter second number: \")\n",
    "\n",
    "        if N1.replace('.', '', 1).isdigit() and N2.replace('.', '', 1).isdigit():\n",
    "            N1 = float(N1)\n",
    "            N2 = float(N2)\n",
    "\n",
    "            if ch == '+':\n",
    "                print(\"Result:\", N1 + N2)\n",
    "            elif ch == '-':\n",
    "                print(\"Result:\", N1 - N2)\n",
    "            elif ch == '*':\n",
    "                print(\"Result:\", N1 * N2)\n",
    "            elif ch == '/':\n",
    "                if N2 == 0:\n",
    "                    print(\"Error: Division by zero is not allowed.\")\n",
    "                else:\n",
    "                    print(\"Result:\", N1 / N2)\n",
    "            elif ch == '%':\n",
    "                if N2 == 0:\n",
    "                    print(\"Error: Modulo by zero is not allowed.\")\n",
    "                else:\n",
    "                    print(\"Result:\", N1 % N2)\n",
    "        else:\n",
    "            print(\"Invalid input. Please enter numeric values.\")\n",
    "    else:\n",
    "        print(\"Invalid operation. Try again.\")"
   ]
  },
  {
   "cell_type": "code",
   "execution_count": 10,
   "id": "cef22290-8f95-4322-a503-6bdd11c082e8",
   "metadata": {},
   "outputs": [
    {
     "name": "stdin",
     "output_type": "stream",
     "text": [
      " 123456\n",
      " 123456\n"
     ]
    },
    {
     "name": "stdout",
     "output_type": "stream",
     "text": [
      "12\n",
      "9\n"
     ]
    },
    {
     "name": "stdin",
     "output_type": "stream",
     "text": [
      " 123456\n"
     ]
    },
    {
     "name": "stdout",
     "output_type": "stream",
     "text": [
      "12\n",
      "9\n"
     ]
    },
    {
     "name": "stdin",
     "output_type": "stream",
     "text": [
      " 123456\n"
     ]
    },
    {
     "name": "stdout",
     "output_type": "stream",
     "text": [
      "12\n",
      "9\n"
     ]
    },
    {
     "ename": "KeyboardInterrupt",
     "evalue": "Interrupted by user",
     "output_type": "error",
     "traceback": [
      "\u001b[0;31m---------------------------------------------------------------------------\u001b[0m",
      "\u001b[0;31mKeyboardInterrupt\u001b[0m                         Traceback (most recent call last)",
      "Cell \u001b[0;32mIn[10], line 4\u001b[0m\n\u001b[1;32m      1\u001b[0m T \u001b[38;5;241m=\u001b[39m \u001b[38;5;28mint\u001b[39m(\u001b[38;5;28minput\u001b[39m())  \u001b[38;5;66;03m# Number of test cases\u001b[39;00m\n\u001b[1;32m      3\u001b[0m \u001b[38;5;28;01mfor\u001b[39;00m _ \u001b[38;5;129;01min\u001b[39;00m \u001b[38;5;28mrange\u001b[39m(T):\n\u001b[0;32m----> 4\u001b[0m     N \u001b[38;5;241m=\u001b[39m \u001b[38;5;28;43minput\u001b[39;49m\u001b[43m(\u001b[49m\u001b[43m)\u001b[49m\u001b[38;5;241m.\u001b[39mstrip()  \u001b[38;5;66;03m# Read input as string to avoid unnecessary conversions\u001b[39;00m\n\u001b[1;32m      6\u001b[0m     odd_sum \u001b[38;5;241m=\u001b[39m \u001b[38;5;28msum\u001b[39m(\u001b[38;5;28mint\u001b[39m(N[i]) \u001b[38;5;28;01mfor\u001b[39;00m i \u001b[38;5;129;01min\u001b[39;00m \u001b[38;5;28mrange\u001b[39m(\u001b[38;5;28mlen\u001b[39m(N)) \u001b[38;5;28;01mif\u001b[39;00m (\u001b[38;5;28mlen\u001b[39m(N) \u001b[38;5;241m-\u001b[39m i) \u001b[38;5;241m%\u001b[39m \u001b[38;5;241m2\u001b[39m \u001b[38;5;241m==\u001b[39m \u001b[38;5;241m1\u001b[39m)\n\u001b[1;32m      7\u001b[0m     even_sum \u001b[38;5;241m=\u001b[39m \u001b[38;5;28msum\u001b[39m(\u001b[38;5;28mint\u001b[39m(N[i]) \u001b[38;5;28;01mfor\u001b[39;00m i \u001b[38;5;129;01min\u001b[39;00m \u001b[38;5;28mrange\u001b[39m(\u001b[38;5;28mlen\u001b[39m(N)) \u001b[38;5;28;01mif\u001b[39;00m (\u001b[38;5;28mlen\u001b[39m(N) \u001b[38;5;241m-\u001b[39m i) \u001b[38;5;241m%\u001b[39m \u001b[38;5;241m2\u001b[39m \u001b[38;5;241m==\u001b[39m \u001b[38;5;241m0\u001b[39m)\n",
      "File \u001b[0;32m/Library/Frameworks/Python.framework/Versions/3.12/lib/python3.12/site-packages/ipykernel/kernelbase.py:1282\u001b[0m, in \u001b[0;36mKernel.raw_input\u001b[0;34m(self, prompt)\u001b[0m\n\u001b[1;32m   1280\u001b[0m     msg \u001b[38;5;241m=\u001b[39m \u001b[38;5;124m\"\u001b[39m\u001b[38;5;124mraw_input was called, but this frontend does not support input requests.\u001b[39m\u001b[38;5;124m\"\u001b[39m\n\u001b[1;32m   1281\u001b[0m     \u001b[38;5;28;01mraise\u001b[39;00m StdinNotImplementedError(msg)\n\u001b[0;32m-> 1282\u001b[0m \u001b[38;5;28;01mreturn\u001b[39;00m \u001b[38;5;28;43mself\u001b[39;49m\u001b[38;5;241;43m.\u001b[39;49m\u001b[43m_input_request\u001b[49m\u001b[43m(\u001b[49m\n\u001b[1;32m   1283\u001b[0m \u001b[43m    \u001b[49m\u001b[38;5;28;43mstr\u001b[39;49m\u001b[43m(\u001b[49m\u001b[43mprompt\u001b[49m\u001b[43m)\u001b[49m\u001b[43m,\u001b[49m\n\u001b[1;32m   1284\u001b[0m \u001b[43m    \u001b[49m\u001b[38;5;28;43mself\u001b[39;49m\u001b[38;5;241;43m.\u001b[39;49m\u001b[43m_parent_ident\u001b[49m\u001b[43m[\u001b[49m\u001b[38;5;124;43m\"\u001b[39;49m\u001b[38;5;124;43mshell\u001b[39;49m\u001b[38;5;124;43m\"\u001b[39;49m\u001b[43m]\u001b[49m\u001b[43m,\u001b[49m\n\u001b[1;32m   1285\u001b[0m \u001b[43m    \u001b[49m\u001b[38;5;28;43mself\u001b[39;49m\u001b[38;5;241;43m.\u001b[39;49m\u001b[43mget_parent\u001b[49m\u001b[43m(\u001b[49m\u001b[38;5;124;43m\"\u001b[39;49m\u001b[38;5;124;43mshell\u001b[39;49m\u001b[38;5;124;43m\"\u001b[39;49m\u001b[43m)\u001b[49m\u001b[43m,\u001b[49m\n\u001b[1;32m   1286\u001b[0m \u001b[43m    \u001b[49m\u001b[43mpassword\u001b[49m\u001b[38;5;241;43m=\u001b[39;49m\u001b[38;5;28;43;01mFalse\u001b[39;49;00m\u001b[43m,\u001b[49m\n\u001b[1;32m   1287\u001b[0m \u001b[43m\u001b[49m\u001b[43m)\u001b[49m\n",
      "File \u001b[0;32m/Library/Frameworks/Python.framework/Versions/3.12/lib/python3.12/site-packages/ipykernel/kernelbase.py:1325\u001b[0m, in \u001b[0;36mKernel._input_request\u001b[0;34m(self, prompt, ident, parent, password)\u001b[0m\n\u001b[1;32m   1322\u001b[0m \u001b[38;5;28;01mexcept\u001b[39;00m \u001b[38;5;167;01mKeyboardInterrupt\u001b[39;00m:\n\u001b[1;32m   1323\u001b[0m     \u001b[38;5;66;03m# re-raise KeyboardInterrupt, to truncate traceback\u001b[39;00m\n\u001b[1;32m   1324\u001b[0m     msg \u001b[38;5;241m=\u001b[39m \u001b[38;5;124m\"\u001b[39m\u001b[38;5;124mInterrupted by user\u001b[39m\u001b[38;5;124m\"\u001b[39m\n\u001b[0;32m-> 1325\u001b[0m     \u001b[38;5;28;01mraise\u001b[39;00m \u001b[38;5;167;01mKeyboardInterrupt\u001b[39;00m(msg) \u001b[38;5;28;01mfrom\u001b[39;00m\u001b[38;5;250m \u001b[39m\u001b[38;5;28;01mNone\u001b[39;00m\n\u001b[1;32m   1326\u001b[0m \u001b[38;5;28;01mexcept\u001b[39;00m \u001b[38;5;167;01mException\u001b[39;00m:\n\u001b[1;32m   1327\u001b[0m     \u001b[38;5;28mself\u001b[39m\u001b[38;5;241m.\u001b[39mlog\u001b[38;5;241m.\u001b[39mwarning(\u001b[38;5;124m\"\u001b[39m\u001b[38;5;124mInvalid Message:\u001b[39m\u001b[38;5;124m\"\u001b[39m, exc_info\u001b[38;5;241m=\u001b[39m\u001b[38;5;28;01mTrue\u001b[39;00m)\n",
      "\u001b[0;31mKeyboardInterrupt\u001b[0m: Interrupted by user"
     ]
    }
   ],
   "source": [
    "T = int(input())  # Number of test cases\n",
    "\n",
    "for _ in range(T):\n",
    "    N = input().strip()  # Read input as string to avoid unnecessary conversions\n",
    "\n",
    "    odd_sum = sum(int(N[i]) for i in range(len(N)) if (len(N) - i) % 2 == 1)\n",
    "    even_sum = sum(int(N[i]) for i in range(len(N)) if (len(N) - i) % 2 == 0)\n",
    "\n",
    "    print(odd_sum)\n",
    "    print(even_sum)"
   ]
  },
  {
   "cell_type": "code",
   "execution_count": null,
   "id": "bd13dec5-d347-4f7a-8462-58f51bce60aa",
   "metadata": {},
   "outputs": [
    {
     "name": "stdin",
     "output_type": "stream",
     "text": [
      " 123456\n",
      " 123456\n"
     ]
    },
    {
     "name": "stdout",
     "output_type": "stream",
     "text": [
      "12\n",
      "9\n"
     ]
    },
    {
     "name": "stdin",
     "output_type": "stream",
     "text": [
      " 123456\n"
     ]
    },
    {
     "name": "stdout",
     "output_type": "stream",
     "text": [
      "12\n",
      "9\n"
     ]
    },
    {
     "name": "stdin",
     "output_type": "stream",
     "text": [
      " 123456\n"
     ]
    },
    {
     "name": "stdout",
     "output_type": "stream",
     "text": [
      "12\n",
      "9\n"
     ]
    }
   ],
   "source": [
    "T = int(input())  # Number of test cases\n",
    "\n",
    "for _ in range(T):\n",
    "    N = input().strip()  # Read input as string to avoid unnecessary conversions\n",
    "\n",
    "    odd_sum = sum(int(N[i]) for i in range(len(N)) if (len(N) - i) % 2 == 1)\n",
    "    even_sum = sum(int(N[i]) for i in range(len(N)) if (len(N) - i) % 2 == 0)\n",
    "\n",
    "    print(odd_sum)\n",
    "    print(even_sum)"
   ]
  },
  {
   "cell_type": "code",
   "execution_count": 11,
   "id": "bf280cc8-26fb-43ff-aa06-b406ef7665ac",
   "metadata": {},
   "outputs": [
    {
     "name": "stdin",
     "output_type": "stream",
     "text": [
      "Enter the number that needs to be reversed: 123456\n"
     ]
    },
    {
     "name": "stdout",
     "output_type": "stream",
     "text": [
      "Reversed number: 654321\n"
     ]
    }
   ],
   "source": [
    "def reverse_number(n):\n",
    "    reversed_num = 0\n",
    "    while n > 0:\n",
    "        # Extract the last digit\n",
    "        digit = n % 10\n",
    "        # Append the digit to the reversed number\n",
    "        reversed_num = reversed_num * 10 + digit\n",
    "        # Remove the last digit from the original number\n",
    "        n = n // 10\n",
    "    return reversed_num\n",
    "\n",
    "# Example usage\n",
    "number = int(input(\"Enter the number that needs to be reversed:\"))\n",
    "reversed_number = reverse_number(number)\n",
    "print(f\"Reversed number: {reversed_number}\")"
   ]
  },
  {
   "cell_type": "code",
   "execution_count": 15,
   "id": "67a1dd8e-bd82-49cd-a701-c2e62d3adaa0",
   "metadata": {},
   "outputs": [
    {
     "name": "stdin",
     "output_type": "stream",
     "text": [
      "Enter first number:  245\n",
      "Enter second number:  230\n"
     ]
    },
    {
     "name": "stdout",
     "output_type": "stream",
     "text": [
      "GCD: 5\n"
     ]
    }
   ],
   "source": [
    "def gcd(a, b):\n",
    "    while b:\n",
    "        a, b = b, a % b  # Euclidean Algorithm\n",
    "    return a\n",
    "\n",
    "# Taking input\n",
    "N1 = int(input(\"Enter first number: \"))\n",
    "N2 = int(input(\"Enter second number: \"))\n",
    "\n",
    "# Calling the function and printing the result\n",
    "print(\"GCD:\", gcd(N1, N2))"
   ]
  },
  {
   "cell_type": "code",
   "execution_count": 17,
   "id": "b9ad390c-2abf-40ad-b515-443bcd42b8ef",
   "metadata": {},
   "outputs": [
    {
     "name": "stdin",
     "output_type": "stream",
     "text": [
      " 2\n",
      " 12345\n"
     ]
    },
    {
     "name": "stdout",
     "output_type": "stream",
     "text": [
      "Yes\n"
     ]
    },
    {
     "name": "stdin",
     "output_type": "stream",
     "text": [
      " 12134\n"
     ]
    },
    {
     "name": "stdout",
     "output_type": "stream",
     "text": [
      "No\n"
     ]
    }
   ],
   "source": [
    "# Taking number of cars as input\n",
    "N = int(input())\n",
    "\n",
    "# Process each car number\n",
    "for _ in range(N):\n",
    "    car_number = input().strip()  # Read input as a string for easy digit processing\n",
    "\n",
    "    sum_even = 0\n",
    "    sum_odd = 0\n",
    "\n",
    "    for digit in car_number:\n",
    "        d = int(digit)\n",
    "        if d % 2 == 0:\n",
    "            sum_even += d\n",
    "        else:\n",
    "            sum_odd += d\n",
    "\n",
    "    # Checking the rule conditions\n",
    "    if sum_even % 4 == 0 or sum_odd % 3 == 0:\n",
    "        print(\"Yes\")  # Allowed to run on Sunday\n",
    "    else:\n",
    "        print(\"No\")  # Not allowed2\n",
    "        "
   ]
  },
  {
   "cell_type": "code",
   "execution_count": null,
   "id": "c3107429-fecb-4491-8c2e-9c6836c111cd",
   "metadata": {},
   "outputs": [],
   "source": []
  }
 ],
 "metadata": {
  "kernelspec": {
   "display_name": "Python 3 (ipykernel)",
   "language": "python",
   "name": "python3"
  },
  "language_info": {
   "codemirror_mode": {
    "name": "ipython",
    "version": 3
   },
   "file_extension": ".py",
   "mimetype": "text/x-python",
   "name": "python",
   "nbconvert_exporter": "python",
   "pygments_lexer": "ipython3",
   "version": "3.12.7"
  }
 },
 "nbformat": 4,
 "nbformat_minor": 5
}
