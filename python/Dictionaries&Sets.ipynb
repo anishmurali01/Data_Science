{
 "cells": [
  {
   "cell_type": "raw",
   "id": "4e2381c4-00c6-4d0b-a600-e208c50faa64",
   "metadata": {},
   "source": [
    "SETS"
   ]
  },
  {
   "cell_type": "code",
   "execution_count": null,
   "id": "8dc07534-1cbc-4c18-8472-3b57fb6e307e",
   "metadata": {},
   "outputs": [],
   "source": [
    "s={1,2,34,4,\"Hello\",1,5,\"Shubham\",10}"
   ]
  },
  {
   "cell_type": "code",
   "execution_count": 2,
   "id": "a1817697-8b45-4e76-8d09-33fa8a284eae",
   "metadata": {},
   "outputs": [
    {
     "name": "stdout",
     "output_type": "stream",
     "text": [
      "{1, 2, 'Hello', 34, 4, 5, 10, 'Shubham'} <class 'set'>\n"
     ]
    }
   ],
   "source": [
    "print(s,type(s))"
   ]
  },
  {
   "cell_type": "code",
   "execution_count": 3,
   "id": "db5d2ffc-4d00-4a09-97a4-6c5fd4ae98e1",
   "metadata": {},
   "outputs": [
    {
     "name": "stdout",
     "output_type": "stream",
     "text": [
      "<class 'dict'>\n"
     ]
    }
   ],
   "source": [
    "s={}\n",
    "print(type(s))"
   ]
  },
  {
   "cell_type": "code",
   "execution_count": 4,
   "id": "9e954b58-aa97-4a76-82a3-90978fb98a27",
   "metadata": {},
   "outputs": [
    {
     "name": "stdout",
     "output_type": "stream",
     "text": [
      "<class 'set'>\n"
     ]
    }
   ],
   "source": [
    "s=set()\n",
    "print(type(s))"
   ]
  },
  {
   "cell_type": "code",
   "execution_count": 5,
   "id": "7a420838-82f2-44dd-bf6a-6a7e9b428a5c",
   "metadata": {},
   "outputs": [
    {
     "name": "stdout",
     "output_type": "stream",
     "text": [
      "{1}\n"
     ]
    }
   ],
   "source": [
    "s=set()\n",
    "s.add(1)\n",
    "print(s)"
   ]
  },
  {
   "cell_type": "code",
   "execution_count": 6,
   "id": "e33f32c6-ec5c-4b68-8af2-1e21dc943721",
   "metadata": {},
   "outputs": [
    {
     "name": "stdout",
     "output_type": "stream",
     "text": [
      "{1, 2, 3, 4, 12}\n"
     ]
    }
   ],
   "source": [
    "s=set()\n",
    "s.add(1)\n",
    "s.add(2)\n",
    "s.add(3)\n",
    "s.add(4)\n",
    "s.add(1)\n",
    "s.add(12)\n",
    "s.add(3)\n",
    "print(s)"
   ]
  },
  {
   "cell_type": "code",
   "execution_count": 22,
   "id": "a370bf20-6b7a-4fae-8f9b-58bd848323bf",
   "metadata": {},
   "outputs": [],
   "source": [
    "s1={1,2,3,4}\n",
    "s2={3,4,5,6}"
   ]
  },
  {
   "cell_type": "code",
   "execution_count": 8,
   "id": "5b938374-b703-421c-8102-8149f6ca33b7",
   "metadata": {},
   "outputs": [
    {
     "data": {
      "text/plain": [
       "{1, 2, 3, 4, 10}"
      ]
     },
     "execution_count": 8,
     "metadata": {},
     "output_type": "execute_result"
    }
   ],
   "source": [
    "s1.add(10)\n",
    "s1"
   ]
  },
  {
   "cell_type": "code",
   "execution_count": 9,
   "id": "e60b516f-c7a4-42d7-a305-e388203839d3",
   "metadata": {},
   "outputs": [
    {
     "name": "stdout",
     "output_type": "stream",
     "text": [
      "{1, 2, 3, 4, 5, 6, 10}\n"
     ]
    }
   ],
   "source": [
    "print(s1.union(s2))"
   ]
  },
  {
   "cell_type": "code",
   "execution_count": 10,
   "id": "608c9f59-5500-4129-a153-af615ed38af0",
   "metadata": {},
   "outputs": [
    {
     "name": "stdout",
     "output_type": "stream",
     "text": [
      "{3, 4}\n"
     ]
    }
   ],
   "source": [
    "print(s1.intersection(s2))"
   ]
  },
  {
   "cell_type": "code",
   "execution_count": 11,
   "id": "38de585e-b4d2-426f-963f-99ac26e3aa3f",
   "metadata": {},
   "outputs": [
    {
     "data": {
      "text/plain": [
       "1"
      ]
     },
     "execution_count": 11,
     "metadata": {},
     "output_type": "execute_result"
    }
   ],
   "source": [
    "s1.pop()"
   ]
  },
  {
   "cell_type": "code",
   "execution_count": 15,
   "id": "5c5dbb38-aba7-4464-9b96-9c4611be1c2e",
   "metadata": {},
   "outputs": [
    {
     "ename": "KeyError",
     "evalue": "10",
     "output_type": "error",
     "traceback": [
      "\u001b[0;31m---------------------------------------------------------------------------\u001b[0m",
      "\u001b[0;31mKeyError\u001b[0m                                  Traceback (most recent call last)",
      "Cell \u001b[0;32mIn[15], line 1\u001b[0m\n\u001b[0;32m----> 1\u001b[0m \u001b[43ms1\u001b[49m\u001b[38;5;241;43m.\u001b[39;49m\u001b[43mremove\u001b[49m\u001b[43m(\u001b[49m\u001b[38;5;241;43m10\u001b[39;49m\u001b[43m)\u001b[49m \u001b[38;5;66;03m#returns an error if there is no element present in set\u001b[39;00m\n",
      "\u001b[0;31mKeyError\u001b[0m: 10"
     ]
    }
   ],
   "source": [
    "s1.remove(10) #returns an error if there is no element present in set"
   ]
  },
  {
   "cell_type": "code",
   "execution_count": 17,
   "id": "afcb0e29-a50b-4cf5-b60c-556f0d1889be",
   "metadata": {},
   "outputs": [
    {
     "name": "stdout",
     "output_type": "stream",
     "text": [
      "{2, 3, 4}\n"
     ]
    }
   ],
   "source": [
    "print(s1)"
   ]
  },
  {
   "cell_type": "code",
   "execution_count": 16,
   "id": "a42b97ca-3c64-456f-8437-80a8b7edcb70",
   "metadata": {},
   "outputs": [],
   "source": [
    "s1.discard(10) #returns null if there is element present in set"
   ]
  },
  {
   "cell_type": "code",
   "execution_count": 18,
   "id": "1df66659-d9c1-4779-804f-9bb814f29832",
   "metadata": {},
   "outputs": [],
   "source": [
    "s1.add(10)"
   ]
  },
  {
   "cell_type": "code",
   "execution_count": 23,
   "id": "a04a3077-aa83-4364-a0ea-5aaffea9e61e",
   "metadata": {},
   "outputs": [
    {
     "data": {
      "text/plain": [
       "{5, 6}"
      ]
     },
     "execution_count": 23,
     "metadata": {},
     "output_type": "execute_result"
    }
   ],
   "source": [
    "s2.difference(s1)"
   ]
  },
  {
   "cell_type": "code",
   "execution_count": 24,
   "id": "e0805247-9eaf-4462-af4d-5a5411601383",
   "metadata": {},
   "outputs": [
    {
     "data": {
      "text/plain": [
       "{1, 2, 5, 6}"
      ]
     },
     "execution_count": 24,
     "metadata": {},
     "output_type": "execute_result"
    }
   ],
   "source": [
    "s2.symmetric_difference(s1)"
   ]
  },
  {
   "cell_type": "markdown",
   "id": "e773b4e2-2ae3-47e5-be13-ee04d2548074",
   "metadata": {},
   "source": [
    "Dictionaries"
   ]
  },
  {
   "cell_type": "code",
   "execution_count": 38,
   "id": "75d569f5-79e0-4222-a233-2f6d649219bd",
   "metadata": {},
   "outputs": [],
   "source": [
    "d={\n",
    "    \"India\":1000,\n",
    "    \"USSR\":150,\n",
    "    \"USA\":100,\n",
    "    1.1:\"one\",\n",
    "    2:[1,2],\n",
    "    \"INDIA\":10000,\n",
    "    (1,2,3):\"Tuple\"\n",
    "}"
   ]
  },
  {
   "cell_type": "code",
   "execution_count": 39,
   "id": "06d7cf16-2a9b-4adc-b5af-81dea33d716e",
   "metadata": {},
   "outputs": [
    {
     "name": "stdout",
     "output_type": "stream",
     "text": [
      "{'India': 1000, 'USSR': 150, 'USA': 100, 1.1: 'one', 2: [1, 2], 'INDIA': 10000, (1, 2, 3): 'Tuple'} <class 'dict'>\n"
     ]
    }
   ],
   "source": [
    "print(d,type(d))"
   ]
  },
  {
   "cell_type": "code",
   "execution_count": 27,
   "id": "e51c7bb8-6b6e-420b-a21b-d5ebad6c2241",
   "metadata": {},
   "outputs": [],
   "source": [
    "d[\"China\"]=100"
   ]
  },
  {
   "cell_type": "code",
   "execution_count": 28,
   "id": "a252947b-32da-4545-860c-3da467b3bc14",
   "metadata": {},
   "outputs": [
    {
     "data": {
      "text/plain": [
       "{'India': 1000, 'USSR': 150, 'USA': 100, 'China': 100}"
      ]
     },
     "execution_count": 28,
     "metadata": {},
     "output_type": "execute_result"
    }
   ],
   "source": [
    "d"
   ]
  },
  {
   "cell_type": "code",
   "execution_count": 29,
   "id": "11e549e6-47a8-48a5-a416-21435cd3e600",
   "metadata": {},
   "outputs": [
    {
     "data": {
      "text/plain": [
       "100"
      ]
     },
     "execution_count": 29,
     "metadata": {},
     "output_type": "execute_result"
    }
   ],
   "source": [
    "d[\"China\"]"
   ]
  },
  {
   "cell_type": "code",
   "execution_count": 30,
   "id": "39c8610d-5a6b-4b88-bbe4-c25e3180a8dc",
   "metadata": {},
   "outputs": [],
   "source": [
    "d[\"China\"]=100000"
   ]
  },
  {
   "cell_type": "code",
   "execution_count": 31,
   "id": "f551ed69-b45b-4371-9721-d033902f7aec",
   "metadata": {},
   "outputs": [
    {
     "data": {
      "text/plain": [
       "{'India': 1000, 'USSR': 150, 'USA': 100, 'China': 100000}"
      ]
     },
     "execution_count": 31,
     "metadata": {},
     "output_type": "execute_result"
    }
   ],
   "source": [
    "d"
   ]
  },
  {
   "cell_type": "code",
   "execution_count": 32,
   "id": "f761185a-88ca-41ea-bf79-cb7010cde4a2",
   "metadata": {},
   "outputs": [
    {
     "data": {
      "text/plain": [
       "100000"
      ]
     },
     "execution_count": 32,
     "metadata": {},
     "output_type": "execute_result"
    }
   ],
   "source": [
    "d.get(\"China\",0) #it would return None if the 0 value is not given"
   ]
  },
  {
   "cell_type": "code",
   "execution_count": 33,
   "id": "bb0c45f9-ed0e-4e7e-b570-f6af60506b39",
   "metadata": {},
   "outputs": [
    {
     "data": {
      "text/plain": [
       "100000"
      ]
     },
     "execution_count": 33,
     "metadata": {},
     "output_type": "execute_result"
    }
   ],
   "source": [
    "d.pop(\"China\",0) #it would return a KeyError if the 0 value is not given"
   ]
  },
  {
   "cell_type": "code",
   "execution_count": 34,
   "id": "693f2489-63a0-49a9-bf9e-b3dc698e04c5",
   "metadata": {},
   "outputs": [
    {
     "data": {
      "text/plain": [
       "{'India': 1000, 'USSR': 150, 'USA': 100}"
      ]
     },
     "execution_count": 34,
     "metadata": {},
     "output_type": "execute_result"
    }
   ],
   "source": [
    "d"
   ]
  },
  {
   "cell_type": "code",
   "execution_count": 35,
   "id": "08148ced-7a0a-40b9-9bf9-54e6d1584b90",
   "metadata": {},
   "outputs": [
    {
     "data": {
      "text/plain": [
       "dict_items([('India', 1000), ('USSR', 150), ('USA', 100)])"
      ]
     },
     "execution_count": 35,
     "metadata": {},
     "output_type": "execute_result"
    }
   ],
   "source": [
    "d.items()"
   ]
  },
  {
   "cell_type": "code",
   "execution_count": 36,
   "id": "bc08b793-7703-436c-a931-3ad2c566f1e7",
   "metadata": {},
   "outputs": [
    {
     "data": {
      "text/plain": [
       "dict_keys(['India', 'USSR', 'USA'])"
      ]
     },
     "execution_count": 36,
     "metadata": {},
     "output_type": "execute_result"
    }
   ],
   "source": [
    "d.keys()"
   ]
  },
  {
   "cell_type": "code",
   "execution_count": 37,
   "id": "205590c7-12b4-465b-9427-ea0d733960e3",
   "metadata": {},
   "outputs": [
    {
     "data": {
      "text/plain": [
       "dict_values([1000, 150, 100])"
      ]
     },
     "execution_count": 37,
     "metadata": {},
     "output_type": "execute_result"
    }
   ],
   "source": [
    "d.values()"
   ]
  },
  {
   "cell_type": "code",
   "execution_count": 40,
   "id": "2850d824-d84a-4d7e-9e5d-81419a1f6e90",
   "metadata": {},
   "outputs": [
    {
     "data": {
      "text/plain": [
       "{'India': 1000,\n",
       " 'USSR': 150,\n",
       " 'USA': 100,\n",
       " 1.1: 'one',\n",
       " 2: [1, 2],\n",
       " 'INDIA': 10000,\n",
       " (1, 2, 3): 'Tuple'}"
      ]
     },
     "execution_count": 40,
     "metadata": {},
     "output_type": "execute_result"
    }
   ],
   "source": [
    "d"
   ]
  },
  {
   "cell_type": "code",
   "execution_count": 41,
   "id": "909ddac3-c290-4dce-bf83-0d7a4ced959b",
   "metadata": {},
   "outputs": [],
   "source": [
    "d1=d.fromkeys([1,2,3],\"Number\")"
   ]
  },
  {
   "cell_type": "code",
   "execution_count": 42,
   "id": "3db47f52-4ac4-470b-8e75-1d5ff955fabd",
   "metadata": {},
   "outputs": [
    {
     "data": {
      "text/plain": [
       "{1: 'Number', 2: 'Number', 3: 'Number'}"
      ]
     },
     "execution_count": 42,
     "metadata": {},
     "output_type": "execute_result"
    }
   ],
   "source": [
    "d1"
   ]
  },
  {
   "cell_type": "code",
   "execution_count": 43,
   "id": "b1c6789d-8a7b-4384-91fb-e15a83537bd6",
   "metadata": {},
   "outputs": [],
   "source": [
    "d.update(d1) #if a key value pair already exists in the main dictionary(here it is d) then d1 would overwrite those key value pairs"
   ]
  },
  {
   "cell_type": "code",
   "execution_count": 44,
   "id": "b4d02862-0933-4acd-89f9-5b966221f86c",
   "metadata": {},
   "outputs": [
    {
     "data": {
      "text/plain": [
       "{'India': 1000,\n",
       " 'USSR': 150,\n",
       " 'USA': 100,\n",
       " 1.1: 'one',\n",
       " 2: 'Number',\n",
       " 'INDIA': 10000,\n",
       " (1, 2, 3): 'Tuple',\n",
       " 1: 'Number',\n",
       " 3: 'Number'}"
      ]
     },
     "execution_count": 44,
     "metadata": {},
     "output_type": "execute_result"
    }
   ],
   "source": [
    "d"
   ]
  },
  {
   "cell_type": "code",
   "execution_count": 45,
   "id": "a243aa61-0556-47d1-8521-7bfaae029635",
   "metadata": {},
   "outputs": [
    {
     "data": {
      "text/plain": [
       "False"
      ]
     },
     "execution_count": 45,
     "metadata": {},
     "output_type": "execute_result"
    }
   ],
   "source": [
    "10 in d"
   ]
  },
  {
   "cell_type": "code",
   "execution_count": 46,
   "id": "0d518a24-e686-49a5-b3e6-eb1fe2fc59e0",
   "metadata": {},
   "outputs": [
    {
     "data": {
      "text/plain": [
       "True"
      ]
     },
     "execution_count": 46,
     "metadata": {},
     "output_type": "execute_result"
    }
   ],
   "source": [
    "1 in d"
   ]
  },
  {
   "cell_type": "code",
   "execution_count": 47,
   "id": "a0087872-d548-49be-97ab-01a907faad21",
   "metadata": {},
   "outputs": [
    {
     "name": "stdout",
     "output_type": "stream",
     "text": [
      "India 1000\n",
      "USSR 150\n",
      "USA 100\n",
      "1.1 one\n",
      "2 Number\n",
      "INDIA 10000\n",
      "(1, 2, 3) Tuple\n",
      "1 Number\n",
      "3 Number\n"
     ]
    }
   ],
   "source": [
    "for k in d:\n",
    "    print(k,d[k]) #d[k] would return the values because to access the values we use []"
   ]
  },
  {
   "cell_type": "code",
   "execution_count": 50,
   "id": "5ba20b69-5bcd-4e2b-b354-ae3747db91c4",
   "metadata": {},
   "outputs": [
    {
     "name": "stdout",
     "output_type": "stream",
     "text": [
      "India 1000\n",
      "USSR 150\n",
      "USA 100\n",
      "1.1 one\n",
      "2 Number\n",
      "INDIA 10000\n",
      "(1, 2, 3) Tuple\n",
      "1 Number\n",
      "3 Number\n"
     ]
    }
   ],
   "source": [
    "# for t in d.items():\n",
    "#    print(t[0],t[1])\n",
    "\n",
    "for k,v in d.items():\n",
    "    print(k,v)"
   ]
  },
  {
   "cell_type": "code",
   "execution_count": null,
   "id": "b2be88cc-6c59-4c97-9c41-a85a50316d69",
   "metadata": {},
   "outputs": [],
   "source": []
  },
  {
   "cell_type": "code",
   "execution_count": 52,
   "id": "6cc417de-319b-4a26-97b2-8bfe1144350b",
   "metadata": {},
   "outputs": [
    {
     "data": {
      "text/plain": [
       "{0: 0, 1: 1, 2: 4, 3: 9, 4: 16, 5: 25, 6: 36, 7: 49, 8: 64, 9: 81}"
      ]
     },
     "execution_count": 52,
     "metadata": {},
     "output_type": "execute_result"
    }
   ],
   "source": [
    "d={}\n",
    "for i in range(10):\n",
    "    d[i]=i**2\n",
    "d"
   ]
  },
  {
   "cell_type": "code",
   "execution_count": 54,
   "id": "c879e899-747a-4691-9c8b-fc29c892283b",
   "metadata": {},
   "outputs": [
    {
     "data": {
      "text/plain": [
       "{0: 0, 1: 1, 2: 4, 3: 9, 4: 16, 5: 25, 6: 36, 7: 49, 8: 64, 9: 81}"
      ]
     },
     "execution_count": 54,
     "metadata": {},
     "output_type": "execute_result"
    }
   ],
   "source": [
    "d={i:i**2 for i in range(10)}\n",
    "d"
   ]
  },
  {
   "cell_type": "code",
   "execution_count": null,
   "id": "a52019ac-6393-47e8-b7b5-e35247f85634",
   "metadata": {},
   "outputs": [],
   "source": []
  }
 ],
 "metadata": {
  "kernelspec": {
   "display_name": "Python 3 (ipykernel)",
   "language": "python",
   "name": "python3"
  },
  "language_info": {
   "codemirror_mode": {
    "name": "ipython",
    "version": 3
   },
   "file_extension": ".py",
   "mimetype": "text/x-python",
   "name": "python",
   "nbconvert_exporter": "python",
   "pygments_lexer": "ipython3",
   "version": "3.12.7"
  }
 },
 "nbformat": 4,
 "nbformat_minor": 5
}
