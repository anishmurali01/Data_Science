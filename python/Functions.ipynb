{
 "cells": [
  {
   "cell_type": "code",
   "execution_count": 1,
   "id": "c1775a20-5ecc-4105-82ea-cc3e2c75ad42",
   "metadata": {},
   "outputs": [],
   "source": [
    "l = [1,2,3,4]"
   ]
  },
  {
   "cell_type": "code",
   "execution_count": 3,
   "id": "f9310f97-7a30-4620-85f5-91a0e6b3687a",
   "metadata": {},
   "outputs": [
    {
     "data": {
      "text/plain": [
       "3"
      ]
     },
     "execution_count": 3,
     "metadata": {},
     "output_type": "execute_result"
    }
   ],
   "source": [
    "l[2]"
   ]
  },
  {
   "cell_type": "code",
   "execution_count": 4,
   "id": "d30a442e-7312-49e6-a355-43f94a9cf894",
   "metadata": {},
   "outputs": [],
   "source": [
    "l=[1,2.3,3+4j,\"4\"]"
   ]
  },
  {
   "cell_type": "code",
   "execution_count": 5,
   "id": "470ff956-f8e2-4352-ad88-2c5f6dc5e4ce",
   "metadata": {},
   "outputs": [
    {
     "data": {
      "text/plain": [
       "'4'"
      ]
     },
     "execution_count": 5,
     "metadata": {},
     "output_type": "execute_result"
    }
   ],
   "source": [
    "l[3]"
   ]
  },
  {
   "cell_type": "code",
   "execution_count": 6,
   "id": "2ddb8650-491e-49e8-8f36-782129bc60f4",
   "metadata": {},
   "outputs": [
    {
     "data": {
      "text/plain": [
       "4"
      ]
     },
     "execution_count": 6,
     "metadata": {},
     "output_type": "execute_result"
    }
   ],
   "source": [
    "len(l)"
   ]
  },
  {
   "cell_type": "code",
   "execution_count": 7,
   "id": "ffb2014f-bcac-48e7-946d-fe111e9656b1",
   "metadata": {},
   "outputs": [
    {
     "name": "stdout",
     "output_type": "stream",
     "text": [
      "False\n"
     ]
    }
   ],
   "source": [
    "l1=[10,20,30,40]\n",
    "l2=[10,20,30,40]\n",
    "\n",
    "print(l1 is l2)"
   ]
  },
  {
   "cell_type": "code",
   "execution_count": 8,
   "id": "57a45e0e-f400-43a1-bd06-ed682ba8b0e8",
   "metadata": {},
   "outputs": [
    {
     "name": "stdout",
     "output_type": "stream",
     "text": [
      "True\n"
     ]
    }
   ],
   "source": [
    "l1=[10,20,30,40]\n",
    "l2=[10,20,30,40]\n",
    "l3=l1\n",
    "print(l1 is l3)"
   ]
  },
  {
   "cell_type": "code",
   "execution_count": 9,
   "id": "3bfb5764-7384-4f25-ba3b-5459714c0017",
   "metadata": {},
   "outputs": [
    {
     "name": "stdin",
     "output_type": "stream",
     "text": [
      " 10\n",
      " 20\n",
      " 30\n",
      " 40\n",
      " 50\n"
     ]
    }
   ],
   "source": [
    "N=5\n",
    "l=[]\n",
    "i=1\n",
    "while i<=N:\n",
    "    l.append(int(input()))\n",
    "    i+=1"
   ]
  },
  {
   "cell_type": "code",
   "execution_count": 10,
   "id": "1fa73df4-620a-4ec6-9df8-86453219fbd6",
   "metadata": {},
   "outputs": [
    {
     "name": "stdout",
     "output_type": "stream",
     "text": [
      "10\n",
      "20\n",
      "30\n",
      "40\n",
      "50\n"
     ]
    }
   ],
   "source": [
    "for ele in l:\n",
    "    print(ele)"
   ]
  },
  {
   "cell_type": "code",
   "execution_count": 11,
   "id": "24fb5738-14f7-446d-ac93-65383fdb4775",
   "metadata": {},
   "outputs": [
    {
     "name": "stdout",
     "output_type": "stream",
     "text": [
      "0\n",
      "1\n",
      "2\n",
      "3\n",
      "4\n"
     ]
    }
   ],
   "source": [
    "for i in range(5):\n",
    "    print(i)"
   ]
  },
  {
   "cell_type": "code",
   "execution_count": 12,
   "id": "b306e5d0-0cad-4e67-b24e-492b3662d907",
   "metadata": {},
   "outputs": [
    {
     "name": "stdout",
     "output_type": "stream",
     "text": [
      "0 10\n",
      "1 20\n",
      "2 30\n",
      "3 40\n",
      "4 50\n"
     ]
    }
   ],
   "source": [
    "for i in range(len(l)):\n",
    "    print(i,l[i])"
   ]
  },
  {
   "cell_type": "code",
   "execution_count": 13,
   "id": "6faa4a03-ba0b-4f21-b377-b5c1275d0596",
   "metadata": {},
   "outputs": [
    {
     "name": "stdout",
     "output_type": "stream",
     "text": [
      "4 50\n",
      "3 40\n",
      "2 30\n",
      "1 20\n",
      "0 10\n"
     ]
    }
   ],
   "source": [
    "for i in range(len(l)-1,-1,-1):\n",
    "    print(i,l[i])"
   ]
  },
  {
   "cell_type": "code",
   "execution_count": 14,
   "id": "4104d8ed-5c64-4b89-9492-711acd4fe06e",
   "metadata": {},
   "outputs": [
    {
     "name": "stdout",
     "output_type": "stream",
     "text": [
      "-1 50\n",
      "-2 40\n",
      "-3 30\n",
      "-4 20\n",
      "-5 10\n"
     ]
    }
   ],
   "source": [
    "for i in range(-1,-len(l)-1,-1):\n",
    "    print(i,l[i])"
   ]
  },
  {
   "cell_type": "code",
   "execution_count": 16,
   "id": "6b14310b-e345-469c-bd9e-8d3274b44d9c",
   "metadata": {},
   "outputs": [
    {
     "name": "stdout",
     "output_type": "stream",
     "text": [
      "[1, 4, 9, 16, 25, 36, 49, 64, 81, 100]\n"
     ]
    }
   ],
   "source": [
    "l=[]\n",
    "for i in range(1,11):\n",
    "    i**=2\n",
    "    l.append(i)\n",
    "print(l)\n",
    "    \n",
    "    "
   ]
  },
  {
   "cell_type": "code",
   "execution_count": 31,
   "id": "e2f0e8c1-8028-439b-9396-a64541874ea4",
   "metadata": {},
   "outputs": [
    {
     "name": "stdout",
     "output_type": "stream",
     "text": [
      "3\n",
      "5\n",
      "7\n",
      "9\n",
      "11\n",
      "13\n",
      "15\n",
      "17\n",
      "19\n"
     ]
    }
   ],
   "source": [
    "x=[i for i in range(1,11)]\n",
    "x\n",
    "for f in range(len(x)-1):\n",
    "    y=(2*f)+3\n",
    "    print(y)"
   ]
  },
  {
   "cell_type": "code",
   "execution_count": null,
   "id": "5b38c67e-f67a-4de5-9b22-b8a2dcbe5efb",
   "metadata": {},
   "outputs": [],
   "source": []
  },
  {
   "cell_type": "code",
   "execution_count": 36,
   "id": "dd9f6e03-6191-4d46-9277-69ab85529397",
   "metadata": {},
   "outputs": [
    {
     "name": "stdin",
     "output_type": "stream",
     "text": [
      " 1\n",
      " 2\n",
      " 3\n",
      " 4\n",
      " 5\n",
      " 6\n",
      " 7\n",
      " 8\n",
      " 9\n"
     ]
    },
    {
     "data": {
      "text/plain": [
       "[[1, 2, 3], [4, 5, 6], [7, 8, 9]]"
      ]
     },
     "execution_count": 36,
     "metadata": {},
     "output_type": "execute_result"
    }
   ],
   "source": [
    "l=[]\n",
    "for i in range(3):\n",
    "    li=[]\n",
    "    for j in range(3):\n",
    "        li.append(int(input()))\n",
    "    l.append(li)\n",
    "l"
   ]
  },
  {
   "cell_type": "code",
   "execution_count": 1,
   "id": "1d8183df-f0ee-42a2-939c-8f0c4772aafe",
   "metadata": {},
   "outputs": [],
   "source": [
    "def fn(*args):\n",
    "    print(args,type(args))"
   ]
  },
  {
   "cell_type": "code",
   "execution_count": 2,
   "id": "eee139f1-5283-4fd9-9d83-5b9aa4ad19ec",
   "metadata": {},
   "outputs": [
    {
     "name": "stdout",
     "output_type": "stream",
     "text": [
      "(1, 2, 3, 4, 5, 6) <class 'tuple'>\n"
     ]
    }
   ],
   "source": [
    "fn(1,2,3,4,5,6)"
   ]
  },
  {
   "cell_type": "code",
   "execution_count": 5,
   "id": "14e06d0b-91da-4114-88f9-2379debbce69",
   "metadata": {},
   "outputs": [],
   "source": [
    "def fn(d,**kawrgs):\n",
    "    print(kawrgs,type(kawrgs))"
   ]
  },
  {
   "cell_type": "code",
   "execution_count": 7,
   "id": "88d88b7e-4b9f-4b5e-be99-e7dd24142832",
   "metadata": {},
   "outputs": [
    {
     "name": "stdout",
     "output_type": "stream",
     "text": [
      "{'a': 10, 'b': 20, 'c': 30} <class 'dict'>\n"
     ]
    }
   ],
   "source": [
    "fn(a=10 , b=20 , c=30 , d=100)"
   ]
  },
  {
   "cell_type": "code",
   "execution_count": 8,
   "id": "906a1482-2e54-41a0-a31c-83c01437878b",
   "metadata": {},
   "outputs": [],
   "source": [
    "d = {'a':10,'b':20}"
   ]
  },
  {
   "cell_type": "code",
   "execution_count": 9,
   "id": "82c1684f-1972-45ee-ba25-6d65b5c09f61",
   "metadata": {},
   "outputs": [],
   "source": [
    "def fn(a,b):\n",
    "    print(a,b)"
   ]
  },
  {
   "cell_type": "code",
   "execution_count": 10,
   "id": "078b2f4f-846a-4da7-8d93-2be833f22a9c",
   "metadata": {},
   "outputs": [
    {
     "name": "stdout",
     "output_type": "stream",
     "text": [
      "10 20\n"
     ]
    }
   ],
   "source": [
    "fn(**d)"
   ]
  },
  {
   "cell_type": "code",
   "execution_count": 11,
   "id": "b88bb7f4-8fb7-41c5-8716-60e0bb460877",
   "metadata": {},
   "outputs": [
    {
     "name": "stdout",
     "output_type": "stream",
     "text": [
      "a b\n"
     ]
    }
   ],
   "source": [
    "fn(*d)"
   ]
  },
  {
   "cell_type": "code",
   "execution_count": null,
   "id": "4a88bb50-3c51-44c2-b345-4df955173b90",
   "metadata": {},
   "outputs": [],
   "source": []
  },
  {
   "cell_type": "code",
   "execution_count": 13,
   "id": "047b679c-2ddc-4b45-ac9e-c316e6c07bb9",
   "metadata": {},
   "outputs": [
    {
     "name": "stdout",
     "output_type": "stream",
     "text": [
      "10 20\n"
     ]
    }
   ],
   "source": [
    "t=(100,200)\n",
    "fn(**d)"
   ]
  },
  {
   "cell_type": "code",
   "execution_count": 15,
   "id": "e124ca2c-6ab0-489c-84cb-9bd88a4f4fb6",
   "metadata": {},
   "outputs": [],
   "source": [
    "def printHI():\n",
    "    print('hi')"
   ]
  },
  {
   "cell_type": "code",
   "execution_count": 14,
   "id": "50d39449-634e-4a4d-83f7-dbd65c83bca6",
   "metadata": {},
   "outputs": [],
   "source": [
    "user={\n",
    "    'Anish':1234,\n",
    "    'Raj':345\n",
    "}"
   ]
  },
  {
   "cell_type": "code",
   "execution_count": 20,
   "id": "b9a985d3-7984-4b51-921d-44e92b84ab22",
   "metadata": {},
   "outputs": [],
   "source": [
    "def protectedHi(username,password):\n",
    "    if username in user and password == user[username]:\n",
    "        printHI()\n",
    "    else:\n",
    "        print(\"Wrong username and password\")"
   ]
  },
  {
   "cell_type": "code",
   "execution_count": 18,
   "id": "b2b63977-badd-45b9-840c-af0030e9f047",
   "metadata": {},
   "outputs": [
    {
     "name": "stdout",
     "output_type": "stream",
     "text": [
      "hi\n"
     ]
    }
   ],
   "source": [
    "protectedHi('Anish',1234)"
   ]
  },
  {
   "cell_type": "code",
   "execution_count": 21,
   "id": "69e584b4-79c7-4a3c-a28e-05a400ec5f73",
   "metadata": {},
   "outputs": [
    {
     "name": "stdout",
     "output_type": "stream",
     "text": [
      "Wrong username and password\n"
     ]
    }
   ],
   "source": [
    "protectedHi('Anisssh',1234)"
   ]
  },
  {
   "cell_type": "code",
   "execution_count": 22,
   "id": "56d2f58c-51f7-41d4-a808-9bfc7a161101",
   "metadata": {},
   "outputs": [],
   "source": [
    "def add(a,b):\n",
    "    return a+b"
   ]
  },
  {
   "cell_type": "code",
   "execution_count": 26,
   "id": "75e065dd-89a6-47f7-b35d-25e18708295d",
   "metadata": {},
   "outputs": [],
   "source": [
    "def protectedADD(username,password,*args,**kwargs):\n",
    "    if username in user and password == user[username]:\n",
    "        printHI()\n",
    "        return add(*args,**kwargs)\n",
    "    else:\n",
    "        print(\"Wrong username and password\")"
   ]
  },
  {
   "cell_type": "code",
   "execution_count": 27,
   "id": "925bc9b1-46c4-4b9e-93c0-c6304181b5d2",
   "metadata": {},
   "outputs": [
    {
     "name": "stdout",
     "output_type": "stream",
     "text": [
      "hi\n"
     ]
    },
    {
     "data": {
      "text/plain": [
       "30"
      ]
     },
     "execution_count": 27,
     "metadata": {},
     "output_type": "execute_result"
    }
   ],
   "source": [
    "protectedADD('Anish',1234,10,20)"
   ]
  },
  {
   "cell_type": "code",
   "execution_count": 34,
   "id": "49a826de-1227-434f-95e3-4d13e5ff8eaa",
   "metadata": {},
   "outputs": [],
   "source": [
    "def authenticate(fn):\n",
    "    def wrapper(username,password,*args,**kwargs):\n",
    "        if username in user and password == user[username]:\n",
    "            return fn(*args,**kwargs)\n",
    "        else:\n",
    "            print(\"Wrong username and password\")\n",
    "    return wrapper"
   ]
  },
  {
   "cell_type": "code",
   "execution_count": 35,
   "id": "5552e6ec-afcf-4d04-8cad-77d7b83b80c3",
   "metadata": {},
   "outputs": [],
   "source": [
    "def prod(a,b,c):\n",
    "    return a*b*c\n",
    "prod=authenticate(prod)"
   ]
  },
  {
   "cell_type": "code",
   "execution_count": 36,
   "id": "611d2fce-5b81-4116-845b-601293b0610a",
   "metadata": {},
   "outputs": [
    {
     "data": {
      "text/plain": [
       "900000"
      ]
     },
     "execution_count": 36,
     "metadata": {},
     "output_type": "execute_result"
    }
   ],
   "source": [
    "prod('Anish',1234,1000,20,45)"
   ]
  },
  {
   "cell_type": "code",
   "execution_count": 37,
   "id": "7c1add85-d280-43a7-b57c-91668346b1b5",
   "metadata": {},
   "outputs": [],
   "source": [
    "@authenticate\n",
    "def abc():\n",
    "    print('xyz')"
   ]
  },
  {
   "cell_type": "code",
   "execution_count": 38,
   "id": "27e63332-ef38-49a2-bb3e-a143fcbbadbe",
   "metadata": {},
   "outputs": [
    {
     "name": "stdout",
     "output_type": "stream",
     "text": [
      "xyz\n"
     ]
    }
   ],
   "source": [
    "abc('Anish',1234)"
   ]
  },
  {
   "cell_type": "code",
   "execution_count": 40,
   "id": "03adeb05-239a-45b6-99c3-4250ad5cea65",
   "metadata": {},
   "outputs": [],
   "source": [
    "def itrex(start,stop,step=1):\n",
    "    i=start\n",
    "    while i<stop:\n",
    "        yield i\n",
    "        i+=step"
   ]
  },
  {
   "cell_type": "code",
   "execution_count": null,
   "id": "c6fab86b-b1ac-44c2-a45b-a08006554e02",
   "metadata": {},
   "outputs": [],
   "source": []
  },
  {
   "cell_type": "code",
   "execution_count": 43,
   "id": "764db5c1-27f7-4bee-9f6d-1a4bddebed66",
   "metadata": {},
   "outputs": [],
   "source": [
    "iterator=itrex(1,10)"
   ]
  },
  {
   "cell_type": "code",
   "execution_count": 46,
   "id": "80885afd-b91a-4dea-b1f3-6a06fb4f1100",
   "metadata": {},
   "outputs": [
    {
     "data": {
      "text/plain": [
       "3"
      ]
     },
     "execution_count": 46,
     "metadata": {},
     "output_type": "execute_result"
    }
   ],
   "source": [
    "next(iterator)"
   ]
  },
  {
   "cell_type": "code",
   "execution_count": 47,
   "id": "f9e49017-3730-4205-ad4d-10ac5105807a",
   "metadata": {},
   "outputs": [
    {
     "name": "stdout",
     "output_type": "stream",
     "text": [
      "4\n",
      "5\n",
      "6\n",
      "7\n",
      "8\n",
      "9\n"
     ]
    }
   ],
   "source": [
    "for i in iterator:\n",
    "    print(i)"
   ]
  },
  {
   "cell_type": "code",
   "execution_count": null,
   "id": "da88ba5a-15c9-4d2a-949e-c3ccc67e8a11",
   "metadata": {},
   "outputs": [],
   "source": []
  }
 ],
 "metadata": {
  "kernelspec": {
   "display_name": "Python 3 (ipykernel)",
   "language": "python",
   "name": "python3"
  },
  "language_info": {
   "codemirror_mode": {
    "name": "ipython",
    "version": 3
   },
   "file_extension": ".py",
   "mimetype": "text/x-python",
   "name": "python",
   "nbconvert_exporter": "python",
   "pygments_lexer": "ipython3",
   "version": "3.12.7"
  }
 },
 "nbformat": 4,
 "nbformat_minor": 5
}
