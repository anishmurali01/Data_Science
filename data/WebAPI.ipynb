{
 "cells": [
  {
   "cell_type": "markdown",
   "id": "83cef45f-a921-4c69-bfd9-cff833885cf1",
   "metadata": {},
   "source": [
    "Kaggle"
   ]
  },
  {
   "cell_type": "markdown",
   "id": "8859853f-c480-4255-b289-45710039b263",
   "metadata": {},
   "source": [
    "## Data Acquisition - Web API'S\n",
    "    Application programming interface - Set of routines running over Web Servers\n",
    "    connects Application & databases\n",
    "    Specify data with URL\n",
    "    Retrieve data & parse it\n",
    "    API may return data in JSON,XML data formats"
   ]
  },
  {
   "cell_type": "markdown",
   "id": "9b2b4395-f008-40f8-bd8f-7f2d13ea2770",
   "metadata": {},
   "source": [
    "## JSON\n",
    "    javascript object notation\n",
    "    Dictionary Like Data-Structure: key value pairs\n",
    "    keys are string, values can be anything\n",
    "    Easy to reaad and write"
   ]
  },
  {
   "cell_type": "markdown",
   "id": "401c8777-fe4d-4a0e-b8d3-8160b71aec5b",
   "metadata": {},
   "source": [
    "## Type of Requests\n",
    "    GET\n",
    "    POST\n",
    "    DELETE\n",
    "    PUT\n",
    "    PATCH"
   ]
  },
  {
   "cell_type": "markdown",
   "id": "a60e6f83-d7ac-4b94-9999-11f0d6b10961",
   "metadata": {},
   "source": [
    "## Requests Library\n",
    "    Most popular Python Library"
   ]
  },
  {
   "cell_type": "markdown",
   "id": "a9bb1933-2aa5-434a-a87a-1543fb4d5bab",
   "metadata": {},
   "source": [
    "## Installation\n",
    "    pip install requests"
   ]
  },
  {
   "cell_type": "code",
   "execution_count": null,
   "id": "5f81bd10-d721-4099-9772-5a7c23d45828",
   "metadata": {},
   "outputs": [],
   "source": []
  },
  {
   "cell_type": "code",
   "execution_count": null,
   "id": "4ad46230-313f-4c78-95c7-c1ef3d4378f0",
   "metadata": {},
   "outputs": [],
   "source": []
  },
  {
   "cell_type": "code",
   "execution_count": 2,
   "id": "345e3a89-ad78-4619-ab86-2a0603bd614f",
   "metadata": {},
   "outputs": [],
   "source": [
    "import requests"
   ]
  },
  {
   "cell_type": "code",
   "execution_count": 31,
   "id": "bafbb40c-9e2d-442b-b494-90395408b81d",
   "metadata": {},
   "outputs": [],
   "source": [
    "url = 'https://catfact.ninja/'\n",
    "# res = requests.get(url+'fact')\n",
    "res = requests.get('https://catfact.ninja/fact?max_length=50')\n",
    "# res = requests.get(url+'fact',params={'max_length':50})\n",
    "# res = requests.get(url)"
   ]
  },
  {
   "cell_type": "code",
   "execution_count": 32,
   "id": "4027708c-7418-462a-8763-b3349a5ba688",
   "metadata": {},
   "outputs": [
    {
     "data": {
      "text/plain": [
       "<Response [200]>"
      ]
     },
     "execution_count": 32,
     "metadata": {},
     "output_type": "execute_result"
    }
   ],
   "source": [
    "res"
   ]
  },
  {
   "cell_type": "code",
   "execution_count": 33,
   "id": "c254ccdf-8170-4ac9-b3e9-bd6a7c498fd2",
   "metadata": {},
   "outputs": [
    {
     "name": "stdout",
     "output_type": "stream",
     "text": [
      "{\"fact\":\"Female cats are polyestrous\",\"length\":28} <class 'str'>\n"
     ]
    }
   ],
   "source": [
    "print(res.text,type(res.text))"
   ]
  },
  {
   "cell_type": "code",
   "execution_count": 34,
   "id": "a3cd3beb-0e0e-4550-83fa-739f40f7b452",
   "metadata": {},
   "outputs": [],
   "source": [
    "import json"
   ]
  },
  {
   "cell_type": "code",
   "execution_count": 35,
   "id": "f3ade497-2a8a-4d90-aeb2-e264026509b5",
   "metadata": {},
   "outputs": [
    {
     "name": "stdout",
     "output_type": "stream",
     "text": [
      "{'fact': 'Female cats are polyestrous', 'length': 28} <class 'dict'>\n"
     ]
    }
   ],
   "source": [
    "print(json.loads(res.text),type(json.loads(res.text)))"
   ]
  },
  {
   "cell_type": "code",
   "execution_count": 37,
   "id": "ea05ac83-ceb2-4efc-93b8-9299e931f786",
   "metadata": {},
   "outputs": [],
   "source": [
    "fact = res.json()"
   ]
  },
  {
   "cell_type": "code",
   "execution_count": 38,
   "id": "64510b6b-c114-46c6-a6a8-bdaa2837f4f7",
   "metadata": {},
   "outputs": [
    {
     "data": {
      "text/plain": [
       "('Female cats are polyestrous', 27)"
      ]
     },
     "execution_count": 38,
     "metadata": {},
     "output_type": "execute_result"
    }
   ],
   "source": [
    "fact['fact'],len(fact['fact'])"
   ]
  },
  {
   "cell_type": "code",
   "execution_count": null,
   "id": "f870fdb0-80c9-4514-9a46-b5d2df0f7369",
   "metadata": {},
   "outputs": [],
   "source": []
  },
  {
   "cell_type": "code",
   "execution_count": null,
   "id": "0812d4a7-c935-4faa-861e-07433ad31e2b",
   "metadata": {},
   "outputs": [],
   "source": []
  },
  {
   "cell_type": "code",
   "execution_count": null,
   "id": "9f4c9f9f-5cd6-4f49-83b5-3a152a21dd5c",
   "metadata": {},
   "outputs": [],
   "source": []
  },
  {
   "cell_type": "code",
   "execution_count": 64,
   "id": "24ded859-4ecb-4563-920e-d40013afb6a3",
   "metadata": {},
   "outputs": [],
   "source": [
    "url = 'https://catfact.ninja/'\n",
    "res = requests.get(url+'facts',params={'max_length':50})"
   ]
  },
  {
   "cell_type": "code",
   "execution_count": 65,
   "id": "febb3c3f-6d5a-42c2-9703-b7b1604d2d8e",
   "metadata": {},
   "outputs": [
    {
     "data": {
      "text/plain": [
       "<Response [200]>"
      ]
     },
     "execution_count": 65,
     "metadata": {},
     "output_type": "execute_result"
    }
   ],
   "source": [
    "res"
   ]
  },
  {
   "cell_type": "code",
   "execution_count": 66,
   "id": "45cdb49f-c851-4b8d-a2cd-b3911f40b8b8",
   "metadata": {},
   "outputs": [],
   "source": [
    "facts = res.json()"
   ]
  },
  {
   "cell_type": "code",
   "execution_count": 67,
   "id": "23834023-c94c-4aa5-920d-800995897c87",
   "metadata": {},
   "outputs": [
    {
     "data": {
      "text/plain": [
       "{'current_page': 1,\n",
       " 'data': [{'fact': 'Cats have 3 eyelids.', 'length': 20},\n",
       "  {'fact': 'Cats walk on their toes.', 'length': 24},\n",
       "  {'fact': 'Most cats adore sardines.', 'length': 25},\n",
       "  {'fact': 'Cats dislike citrus scent.', 'length': 26},\n",
       "  {'fact': 'Cats have supersonic hearing', 'length': 28},\n",
       "  {'fact': 'Female cats are polyestrous', 'length': 28},\n",
       "  {'fact': 'A form of AIDS exists in cats.', 'length': 30},\n",
       "  {'fact': 'Female felines are \\\\superfecund', 'length': 31},\n",
       "  {'fact': 'Milk can give some cats diarrhea.', 'length': 33},\n",
       "  {'fact': 'A group of cats is called a clowder.', 'length': 36}],\n",
       " 'first_page_url': 'https://catfact.ninja/facts?page=1',\n",
       " 'from': 1,\n",
       " 'last_page': 4,\n",
       " 'last_page_url': 'https://catfact.ninja/facts?page=4',\n",
       " 'links': [{'url': None, 'label': 'Previous', 'active': False},\n",
       "  {'url': 'https://catfact.ninja/facts?page=1', 'label': '1', 'active': True},\n",
       "  {'url': 'https://catfact.ninja/facts?page=2', 'label': '2', 'active': False},\n",
       "  {'url': 'https://catfact.ninja/facts?page=3', 'label': '3', 'active': False},\n",
       "  {'url': 'https://catfact.ninja/facts?page=4', 'label': '4', 'active': False},\n",
       "  {'url': 'https://catfact.ninja/facts?page=2',\n",
       "   'label': 'Next',\n",
       "   'active': False}],\n",
       " 'next_page_url': 'https://catfact.ninja/facts?page=2',\n",
       " 'path': 'https://catfact.ninja/facts',\n",
       " 'per_page': 10,\n",
       " 'prev_page_url': None,\n",
       " 'to': 10,\n",
       " 'total': 33}"
      ]
     },
     "execution_count": 67,
     "metadata": {},
     "output_type": "execute_result"
    }
   ],
   "source": [
    "facts"
   ]
  },
  {
   "cell_type": "code",
   "execution_count": 68,
   "id": "a1eab2c5-5282-4a49-bc86-e7bf4238bba4",
   "metadata": {},
   "outputs": [
    {
     "data": {
      "text/plain": [
       "[{'fact': 'Cats have 3 eyelids.', 'length': 20},\n",
       " {'fact': 'Cats walk on their toes.', 'length': 24},\n",
       " {'fact': 'Most cats adore sardines.', 'length': 25},\n",
       " {'fact': 'Cats dislike citrus scent.', 'length': 26},\n",
       " {'fact': 'Cats have supersonic hearing', 'length': 28},\n",
       " {'fact': 'Female cats are polyestrous', 'length': 28},\n",
       " {'fact': 'A form of AIDS exists in cats.', 'length': 30},\n",
       " {'fact': 'Female felines are \\\\superfecund', 'length': 31},\n",
       " {'fact': 'Milk can give some cats diarrhea.', 'length': 33},\n",
       " {'fact': 'A group of cats is called a clowder.', 'length': 36}]"
      ]
     },
     "execution_count": 68,
     "metadata": {},
     "output_type": "execute_result"
    }
   ],
   "source": [
    "facts['data']"
   ]
  },
  {
   "cell_type": "code",
   "execution_count": 73,
   "id": "6e12cd85-0c07-4d25-830c-c30cf8812d9f",
   "metadata": {},
   "outputs": [],
   "source": [
    "url = 'https://catfact.ninja/'\n",
    "facts = []\n",
    "for page in range(1,4):\n",
    "    res = requests.get(url+'facts',params={'max_length':50,'page':page})\n",
    "    f = res.json()\n",
    "    for d in f['data']:\n",
    "        facts.append(d['fact'])"
   ]
  },
  {
   "cell_type": "code",
   "execution_count": 74,
   "id": "d3974e5c-972e-4884-91b4-b1c8065e54c6",
   "metadata": {},
   "outputs": [
    {
     "data": {
      "text/plain": [
       "['Cats have 3 eyelids.',\n",
       " 'Cats walk on their toes.',\n",
       " 'Most cats adore sardines.',\n",
       " 'Cats dislike citrus scent.',\n",
       " 'Cats have supersonic hearing',\n",
       " 'Female cats are polyestrous',\n",
       " 'A form of AIDS exists in cats.',\n",
       " 'Female felines are \\\\superfecund',\n",
       " 'Milk can give some cats diarrhea.',\n",
       " 'A group of cats is called a clowder.',\n",
       " 'A group of cats is called a “clowder.”',\n",
       " \"Cat's urine glows under a black light.\",\n",
       " 'Cats can be right-pawed or left-pawed.',\n",
       " \"A tiger's stripes are like fingerprints\",\n",
       " \"70% of your cat's life is spent asleep.\",\n",
       " 'Cats have the largest eyes of any mammal.',\n",
       " 'A cat cannot see directly under its nose.',\n",
       " 'A female cat is called a queen or a molly.',\n",
       " 'There are approximately 100 breeds of cat.',\n",
       " 'Approximately 24 cat skins can make a coat.',\n",
       " 'A domestic cat can run at speeds of 30 mph.',\n",
       " 'Cats take between 20-40 breaths per minute.',\n",
       " \"The cat's tail is used to maintain balance.\",\n",
       " 'A happy cat holds her tail high and steady.',\n",
       " 'A cats field of vision is about 185 degrees.',\n",
       " 'A cat can jump 5 times as high as it is tall.',\n",
       " \"A cat's field of vision is about 200 degrees.\",\n",
       " \"Jaguars are the only big cats that don't roar.\",\n",
       " 'Cats can jump up to 7 times their tail length.',\n",
       " 'Blue-eyed, pure white cats are frequently deaf.']"
      ]
     },
     "execution_count": 74,
     "metadata": {},
     "output_type": "execute_result"
    }
   ],
   "source": [
    "facts"
   ]
  },
  {
   "cell_type": "code",
   "execution_count": 85,
   "id": "eaddf6ec-1cfa-48d6-b995-6d4448d5b8ba",
   "metadata": {},
   "outputs": [],
   "source": [
    "url = 'https://catfact.ninja/'\n",
    "breeds = []\n",
    "for page in range(1,4):\n",
    "    res = requests.get(url+'breeds',params={'page':page})\n",
    "    f = res.json()\n",
    "    for d in f['data']:\n",
    "        breeds.append(d['breed'])"
   ]
  },
  {
   "cell_type": "code",
   "execution_count": 86,
   "id": "105be9a0-43b2-42f9-b2b8-6cf1763a59ed",
   "metadata": {},
   "outputs": [
    {
     "data": {
      "text/plain": [
       "['Abyssinian',\n",
       " 'Aegean',\n",
       " 'American Curl',\n",
       " 'American Bobtail',\n",
       " 'American Shorthair',\n",
       " 'American Wirehair',\n",
       " 'Arabian Mau',\n",
       " 'Australian Mist',\n",
       " 'Asian',\n",
       " 'Asian Semi-longhair',\n",
       " 'Balinese',\n",
       " 'Bambino',\n",
       " 'Bengal',\n",
       " 'Birman',\n",
       " 'Bombay',\n",
       " 'Brazilian Shorthair',\n",
       " 'British Semi-longhair',\n",
       " 'British Shorthair',\n",
       " 'British Longhair',\n",
       " 'Burmese',\n",
       " 'Burmilla',\n",
       " 'California Spangled',\n",
       " 'Chantilly-Tiffany',\n",
       " 'Chartreux',\n",
       " 'Chausie',\n",
       " 'Cheetoh',\n",
       " 'Colorpoint Shorthair',\n",
       " 'Cornish Rex',\n",
       " 'Cymric or Manx Longhair',\n",
       " 'Cyprus',\n",
       " 'Devon Rex',\n",
       " 'Donskoy, or Don Sphynx',\n",
       " 'Dragon Li',\n",
       " 'Dwarf cat, or Dwelf',\n",
       " 'Egyptian Mau',\n",
       " 'European Shorthair',\n",
       " 'Exotic Shorthair',\n",
       " 'Foldex[4]',\n",
       " 'German Rex',\n",
       " 'Havana Brown',\n",
       " 'Highlander',\n",
       " 'Himalayan, or Colorpoint Persian',\n",
       " 'Japanese Bobtail',\n",
       " 'Javanese',\n",
       " 'Karelian Bobtail',\n",
       " 'Khao Manee',\n",
       " 'Korat',\n",
       " 'Korean Bobtail',\n",
       " 'Korn Ja',\n",
       " 'Kurilian Bobtail, or Kuril Islands Bobtail',\n",
       " 'LaPerm',\n",
       " 'Lykoi',\n",
       " 'Maine Coon',\n",
       " 'Manx',\n",
       " 'Mekong Bobtail',\n",
       " 'Minskin',\n",
       " 'Munchkin',\n",
       " 'Nebelung',\n",
       " 'Napoleon',\n",
       " 'Norwegian Forest cat',\n",
       " 'Ocicat',\n",
       " 'Ojos Azules',\n",
       " 'Oregon Rex',\n",
       " 'Oriental Bicolor',\n",
       " 'Oriental Shorthair',\n",
       " 'Oriental Longhair',\n",
       " 'PerFoldæ(Experimental Breed - WCF)',\n",
       " 'Persian (Modern Persian Cat)',\n",
       " 'Persian (Traditional Persian Cat)',\n",
       " 'Peterbald',\n",
       " 'Pixie-bob',\n",
       " 'Raas',\n",
       " 'Ragamuffin',\n",
       " 'Ragdoll',\n",
       " 'Russian Blue']"
      ]
     },
     "execution_count": 86,
     "metadata": {},
     "output_type": "execute_result"
    }
   ],
   "source": [
    "breeds"
   ]
  },
  {
   "cell_type": "code",
   "execution_count": null,
   "id": "6eac2335-4f96-4ca8-9895-2c20fb4f7827",
   "metadata": {},
   "outputs": [],
   "source": []
  },
  {
   "cell_type": "code",
   "execution_count": null,
   "id": "3f943a3a-3d0b-44d1-a862-e5d0280fc9d2",
   "metadata": {},
   "outputs": [],
   "source": []
  }
 ],
 "metadata": {
  "kernelspec": {
   "display_name": "Python 3 (ipykernel)",
   "language": "python",
   "name": "python3"
  },
  "language_info": {
   "codemirror_mode": {
    "name": "ipython",
    "version": 3
   },
   "file_extension": ".py",
   "mimetype": "text/x-python",
   "name": "python",
   "nbconvert_exporter": "python",
   "pygments_lexer": "ipython3",
   "version": "3.12.7"
  }
 },
 "nbformat": 4,
 "nbformat_minor": 5
}
