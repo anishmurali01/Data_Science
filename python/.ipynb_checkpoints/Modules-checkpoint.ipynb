{
 "cells": [
  {
   "cell_type": "code",
   "execution_count": 1,
   "id": "f0bf80f5-11b6-401a-9a03-5dca635ca512",
   "metadata": {},
   "outputs": [
    {
     "name": "stdout",
     "output_type": "stream",
     "text": [
      "10\n"
     ]
    }
   ],
   "source": [
    "x = -10\n",
    "print(abs(x))"
   ]
  },
  {
   "cell_type": "code",
   "execution_count": 2,
   "id": "b347c9c7-02f2-4d65-aedb-d8c482e0f376",
   "metadata": {},
   "outputs": [
    {
     "data": {
      "text/plain": [
       "False"
      ]
     },
     "execution_count": 2,
     "metadata": {},
     "output_type": "execute_result"
    }
   ],
   "source": [
    "all([True,-1,'as',3,True,False])"
   ]
  },
  {
   "cell_type": "code",
   "execution_count": 3,
   "id": "07bdc589-5f96-4058-844a-05266368620a",
   "metadata": {},
   "outputs": [
    {
     "data": {
      "text/plain": [
       "True"
      ]
     },
     "execution_count": 3,
     "metadata": {},
     "output_type": "execute_result"
    }
   ],
   "source": [
    "any([True,-1,'as',3,True,False])"
   ]
  },
  {
   "cell_type": "code",
   "execution_count": 4,
   "id": "c59f7a7b-3d20-412c-bea2-ecce35943851",
   "metadata": {},
   "outputs": [
    {
     "data": {
      "text/plain": [
       "False"
      ]
     },
     "execution_count": 4,
     "metadata": {},
     "output_type": "execute_result"
    }
   ],
   "source": [
    "bool(None)"
   ]
  },
  {
   "cell_type": "code",
   "execution_count": 5,
   "id": "4db301d8-e801-4ebe-aef8-cc0b6da8beb5",
   "metadata": {},
   "outputs": [
    {
     "data": {
      "text/plain": [
       "(3, 1)"
      ]
     },
     "execution_count": 5,
     "metadata": {},
     "output_type": "execute_result"
    }
   ],
   "source": [
    "divmod(10,3)"
   ]
  },
  {
   "cell_type": "code",
   "execution_count": 6,
   "id": "aa0b957d-cbf1-4e9e-8444-9f05242db421",
   "metadata": {},
   "outputs": [
    {
     "name": "stdout",
     "output_type": "stream",
     "text": [
      "(0, 10)\n",
      "(1, 20)\n",
      "(2, 30)\n",
      "(3, 40)\n",
      "(4, 50)\n"
     ]
    }
   ],
   "source": [
    "l=[10,20,30,40,50]\n",
    "for t in enumerate(l):\n",
    "    print(t)"
   ]
  },
  {
   "cell_type": "code",
   "execution_count": 10,
   "id": "6f6ef4bb-1def-4654-989e-f75052af4605",
   "metadata": {},
   "outputs": [],
   "source": [
    "l = [i for i in range(1,101)]"
   ]
  },
  {
   "cell_type": "code",
   "execution_count": 11,
   "id": "e6b661e5-1e7c-4a9f-9c35-d71ee3b7e09f",
   "metadata": {},
   "outputs": [],
   "source": [
    "n1 = list(filter(lambda x: 30<x<=80,l))"
   ]
  },
  {
   "cell_type": "code",
   "execution_count": null,
   "id": "e4b4ea0e-08e9-4587-9aa3-b882543b0563",
   "metadata": {},
   "outputs": [],
   "source": []
  },
  {
   "cell_type": "code",
   "execution_count": null,
   "id": "9780b47a-da3a-4429-97cf-1f7f9622ed61",
   "metadata": {},
   "outputs": [],
   "source": []
  },
  {
   "cell_type": "code",
   "execution_count": 14,
   "id": "41ab1414-0068-4594-b452-0d6497a560ce",
   "metadata": {},
   "outputs": [
    {
     "data": {
      "text/plain": [
       "False"
      ]
     },
     "execution_count": 14,
     "metadata": {},
     "output_type": "execute_result"
    }
   ],
   "source": [
    "isinstance(l,int)"
   ]
  },
  {
   "cell_type": "code",
   "execution_count": 16,
   "id": "8216ee38-d8cf-46b8-864d-ac4ebe04a673",
   "metadata": {},
   "outputs": [],
   "source": [
    "l=[(1,10),(5,20),(3,40),(2,100),(4,150)]"
   ]
  },
  {
   "cell_type": "code",
   "execution_count": 22,
   "id": "2b395410-6735-44d8-a46a-b7fa224d98be",
   "metadata": {},
   "outputs": [
    {
     "name": "stdout",
     "output_type": "stream",
     "text": [
      "[(5, 20), (3, 40), (2, 100)]\n"
     ]
    }
   ],
   "source": [
    "print(list(filter(lambda x: 20<=x[1]<=100,l)))"
   ]
  },
  {
   "cell_type": "code",
   "execution_count": 24,
   "id": "5be5fa86-8763-4db5-8ccb-ff96bef44148",
   "metadata": {},
   "outputs": [
    {
     "name": "stdout",
     "output_type": "stream",
     "text": [
      "11\n",
      "25\n",
      "43\n",
      "102\n",
      "154\n"
     ]
    }
   ],
   "source": [
    "for ele in map(lambda x:x[0]+x[1],l):\n",
    "    print(ele)"
   ]
  },
  {
   "cell_type": "code",
   "execution_count": 25,
   "id": "21c10643-2fdd-47fb-836d-63c789c489f2",
   "metadata": {},
   "outputs": [],
   "source": [
    "from functools import reduce"
   ]
  },
  {
   "cell_type": "code",
   "execution_count": 28,
   "id": "f43e87dc-6cd1-40aa-bdcf-81416f688240",
   "metadata": {},
   "outputs": [
    {
     "data": {
      "text/plain": [
       "5"
      ]
     },
     "execution_count": 28,
     "metadata": {},
     "output_type": "execute_result"
    }
   ],
   "source": [
    "reduce(max,[1,2,3,4,5])"
   ]
  },
  {
   "cell_type": "code",
   "execution_count": 29,
   "id": "2d075b9a-a151-4bd5-98c3-fefa9890d114",
   "metadata": {},
   "outputs": [],
   "source": [
    "l=[(1,10),(5,20),(3,40),(2,100),(4,150)]"
   ]
  },
  {
   "cell_type": "code",
   "execution_count": 30,
   "id": "94b45d29-7bea-4470-9c64-608012dad0b9",
   "metadata": {},
   "outputs": [
    {
     "data": {
      "text/plain": [
       "[(1, 10), (5, 20), (3, 40), (2, 100), (4, 150)]"
      ]
     },
     "execution_count": 30,
     "metadata": {},
     "output_type": "execute_result"
    }
   ],
   "source": [
    "sorted(l,key=lambda x:x[1])"
   ]
  },
  {
   "cell_type": "code",
   "execution_count": null,
   "id": "181b662a-d08e-44c1-9e5b-557e2cecba8c",
   "metadata": {},
   "outputs": [],
   "source": []
  }
 ],
 "metadata": {
  "kernelspec": {
   "display_name": "Python 3 (ipykernel)",
   "language": "python",
   "name": "python3"
  },
  "language_info": {
   "codemirror_mode": {
    "name": "ipython",
    "version": 3
   },
   "file_extension": ".py",
   "mimetype": "text/x-python",
   "name": "python",
   "nbconvert_exporter": "python",
   "pygments_lexer": "ipython3",
   "version": "3.12.7"
  }
 },
 "nbformat": 4,
 "nbformat_minor": 5
}
